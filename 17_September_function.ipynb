{
 "cells": [
  {
   "cell_type": "code",
   "execution_count": null,
   "id": "8b0bb6ec-0648-4718-9a81-ca105455bad8",
   "metadata": {},
   "outputs": [],
   "source": [
    "#Basics of Functions:"
   ]
  },
  {
   "cell_type": "code",
   "execution_count": null,
   "id": "637ecc9a-7960-483a-91a2-b29054be34e7",
   "metadata": {},
   "outputs": [],
   "source": [
    "#Q1. What is a function in Python, and why is it used?"
   ]
  },
  {
   "cell_type": "markdown",
   "id": "6c62f1ac-9d65-44a1-aef0-5e0ca6cc0b8f",
   "metadata": {},
   "source": [
    "1) Python Functions is a block of statements that return the specific task.\n",
    "\n",
    "2) That means that a function is a piece of code written to carry out a specified task.\n",
    "\n",
    "3) In programming, functions allow us to repeat a sequence of code without having to write the code over again. \n",
    "\n",
    "4) This allows us to simplify a complex action by using only one command, just like in our criss-cross applesauce example.\n",
    "\n",
    "5) Syntax\n",
    "\n",
    "  def function_name(parameters):\n",
    "  \n",
    "   #Function body\n",
    "   \n",
    "  return output"
   ]
  },
  {
   "cell_type": "code",
   "execution_count": null,
   "id": "6cfef098-e1e6-4884-9459-8f0c1c6c006c",
   "metadata": {},
   "outputs": [],
   "source": [
    "#Q2.How do you define a function in Python? Provide an example."
   ]
  },
  {
   "cell_type": "markdown",
   "id": "d7056dda-fc3f-4543-9dbb-f51e1803ba7b",
   "metadata": {},
   "source": [
    " Syntax\n",
    "\n",
    "  def function_name(parameters):\n",
    "   #Function body\n",
    "  return output\n",
    "1) def is the keyword used to define a function.\n",
    "\n",
    "2) Function_name is the name of the function.\n",
    "\n",
    "3) Parameters are the arguments that the function takes.\n",
    "\n",
    "4) Docstring is an optional string that describes the function.\n",
    "\n",
    "5) Function body is the block of code that the function executes.\n",
    "\n",
    "6) Return is a keyword used to return a value from the function.\n",
    "\n",
    "7) Here is an example of a function definition:\n",
    "\n",
    "    def add_numbers(a, b):\n",
    "    \n",
    "  \"\"\"Returns the sum of two numbers.\"\"\"\n",
    "  \n",
    "  return a + b\n",
    "  \n",
    "  result = add_numbers(1, 2)\n",
    "\n",
    "Output:3"
   ]
  },
  {
   "cell_type": "code",
   "execution_count": null,
   "id": "fc35039b-cb02-4c23-b7ce-5763d16d16f2",
   "metadata": {},
   "outputs": [],
   "source": [
    "#Q3. Explain the difference between a function definition and a function call."
   ]
  },
  {
   "cell_type": "markdown",
   "id": "0a89a481-e2fd-4fde-b76e-166dd6b0237f",
   "metadata": {},
   "source": [
    "Function in Python\n",
    "\n",
    "In Python, a function is a block of code that performs a specific task and may or may not return a value. A function is defined using the def keyword, followed by the function name and a set of parentheses that may include parameters. Here is an example of a function definition in Python:\n",
    "\n",
    "def greet(name):\n",
    "\n",
    "print(\"Hello, \" + name)\n",
    "\n",
    "This function, called greet, takes a single parameter called name and prints a greeting message using the value of name.\n",
    "\n",
    "Function call in Python\n",
    "\n",
    "A function call is an expression that invokes a function. To call a function in Python, you simply write the function name followed by a set of parentheses that may include arguments. Here is an example of a function call in Python:\n",
    "\n",
    "greet(\"John\")\n",
    "\n",
    "This function call invokes the greet function with the argument \"John\", which will cause it to print the message \"Hello, John\"."
   ]
  },
  {
   "cell_type": "code",
   "execution_count": null,
   "id": "ce14203d-cf11-4bd8-9137-f70083c7d09e",
   "metadata": {},
   "outputs": [],
   "source": [
    "#Q4. Write a Python program that defines a function to calculate the sum of two numbers and then calls the function."
   ]
  },
  {
   "cell_type": "code",
   "execution_count": 1,
   "id": "f0f3e208-6cfe-4d3c-9201-983207c12bae",
   "metadata": {},
   "outputs": [
    {
     "name": "stdin",
     "output_type": "stream",
     "text": [
      "Input the first number :  34\n",
      "Input the second number  : 45\n"
     ]
    },
    {
     "name": "stdout",
     "output_type": "stream",
     "text": [
      "The sum of given two numbers is 79\n"
     ]
    }
   ],
   "source": [
    "def add_two_num(a,b):\n",
    "    sum=a+b;\n",
    "    return sum; \n",
    "num1=int(input(\"Input the first number : \"))\n",
    "num2=int(input(\"Input the second number  :\"))\n",
    "print(\"The sum of given two numbers is\",add_two_num(num1,num2))"
   ]
  },
  {
   "cell_type": "markdown",
   "id": "729ec239-5b5a-41a9-8b03-3abe90436699",
   "metadata": {},
   "source": [
    "1). Simply defined the function that accepts two arguments. \n",
    "\n",
    "2). Used the + operator to add those two numbers and return the value stored in the sum variable.\n",
    "\n",
    "3). We used the input() function to accept the input from the user."
   ]
  },
  {
   "cell_type": "code",
   "execution_count": null,
   "id": "9c8552e7-467a-4199-b9ba-96d1b5cba732",
   "metadata": {},
   "outputs": [],
   "source": [
    "#Q5. What is a function signature, and what information does it typically include?"
   ]
  },
  {
   "cell_type": "markdown",
   "id": "536ab475-0ec7-4655-a7bc-c23f67ac7f7d",
   "metadata": {},
   "source": [
    "1). The signature indicates the names and types of the input arguments, and (with type annotations) the type of the returned result(s) of a function or method.\n",
    "\n",
    "2). A function signature is its declaration, parameters, and return type.\n",
    "\n",
    "3). A signature can include: parameters and their types. a return value and type. exceptions that might be thrown or passed back."
   ]
  },
  {
   "cell_type": "code",
   "execution_count": null,
   "id": "35d6154c-751e-41a6-8860-0e108d3de750",
   "metadata": {},
   "outputs": [],
   "source": [
    "#Q6. Create a Python function that takes two arguments and returns their product."
   ]
  },
  {
   "cell_type": "code",
   "execution_count": 3,
   "id": "0b82654f-8d1c-4bde-b8b7-26b6058a5b36",
   "metadata": {},
   "outputs": [
    {
     "name": "stdin",
     "output_type": "stream",
     "text": [
      "Input the first number :  34\n",
      "Input the second number  : 45\n"
     ]
    },
    {
     "name": "stdout",
     "output_type": "stream",
     "text": [
      "The sum of given two numbers is 1530\n"
     ]
    }
   ],
   "source": [
    "def mul_two_num(a,b):\n",
    "    mul=a*b;\n",
    "    return mul; \n",
    "num1=int(input(\"Input the first number : \"))\n",
    "num2=int(input(\"Input the second number  :\"))\n",
    "print(\"The sum of given two numbers is\",mul_two_num(num1,num2))"
   ]
  },
  {
   "cell_type": "markdown",
   "id": "8d3da5c9-002f-44b7-a32d-c3af4979d46f",
   "metadata": {},
   "source": [
    "1). Simply defined the function that accepts two arguments.\n",
    "\n",
    "2). Used the * operator to multiply those two numbers and return the value stored in the mul variable.\n",
    "\n",
    "3). We used the input() function to accept the input from the user."
   ]
  },
  {
   "cell_type": "code",
   "execution_count": null,
   "id": "d91b54f9-d035-480e-98c4-e3ccb267bf3b",
   "metadata": {},
   "outputs": [],
   "source": [
    "#Function Parameters and Arguments:"
   ]
  },
  {
   "cell_type": "code",
   "execution_count": null,
   "id": "201e9e32-936a-410f-a73d-1f028e78938c",
   "metadata": {},
   "outputs": [],
   "source": [
    "#Q1. Explain the concepts of formal parameters and actual arguments in Python functions."
   ]
  },
  {
   "cell_type": "markdown",
   "id": "2ab62963-6364-4bc6-9dd2-61c68a4c3ab8",
   "metadata": {},
   "source": [
    "Formal parameter — the identifier used in a method to stand for the value that is passed into the method by a caller.\n",
    "For example, amount is a formal parameter of processDeposit\n",
    "\n",
    "Actual parameter — the actual value that is passed into the method by a caller.\n",
    "For example, the 200 used when processDeposit is called is an actual parameter.\n",
    "actual parameters are often called arguments"
   ]
  },
  {
   "cell_type": "code",
   "execution_count": null,
   "id": "ffd63e72-aa77-4e5e-a64e-2fdf2c42fe88",
   "metadata": {},
   "outputs": [],
   "source": [
    "#Q2.Write a Python program that defines a function with default argument values."
   ]
  },
  {
   "cell_type": "code",
   "execution_count": 6,
   "id": "1dcc5f85-82b2-4617-bbea-d76fb927cf56",
   "metadata": {},
   "outputs": [
    {
     "name": "stdin",
     "output_type": "stream",
     "text": [
      "Input First name: Vikas\n",
      "Input Last name: Ranjan\n",
      "Input Standard: Ninth\n"
     ]
    },
    {
     "name": "stdout",
     "output_type": "stream",
     "text": [
      "Vikas Ranjan studies in Ninth Standard\n",
      "Mark Zuckerberg studies in Fifth Standard\n"
     ]
    }
   ],
   "source": [
    "def student(firstname=\"Mark\", lastname ='Zuckerberg', standard ='Fifth'):\n",
    "    print(firstname, lastname, 'studies in', standard, 'Standard')\n",
    "\n",
    "firstname=str(input(\"Input First name:\"))\n",
    "lastname =str(input(\"Input Last name:\"))\n",
    "standard =str(input(\"Input Standard:\"))\n",
    "student(firstname,lastname,standard)\n",
    "student()"
   ]
  },
  {
   "cell_type": "markdown",
   "id": "e3ea2ac6-1eab-4182-bfc5-4ec8c70c6344",
   "metadata": {},
   "source": [
    "1). In the case of passing the keyword arguments, the order of arguments is important.\n",
    "\n",
    "2). There should be only one value for one parameter.\n",
    "\n",
    "3). The passed keyword name should match with the actual keyword name.\n",
    "\n",
    "4). In the case of calling a function containing non-keyword arguments, the order is important."
   ]
  },
  {
   "cell_type": "code",
   "execution_count": null,
   "id": "b8711a2f-f764-4b4b-981b-932b7b47accb",
   "metadata": {},
   "outputs": [],
   "source": [
    "#Q3. How do you use keyword arguments in Python function calls? Provide an example."
   ]
  },
  {
   "cell_type": "code",
   "execution_count": 7,
   "id": "03827eb5-9679-47be-9dc2-fdaadd1d09c2",
   "metadata": {},
   "outputs": [
    {
     "name": "stdout",
     "output_type": "stream",
     "text": [
      "First Name: Vikas\n",
      "Last Name: Ranjan\n"
     ]
    }
   ],
   "source": [
    "def display_info(first_name, last_name):\n",
    "    print('First Name:', first_name)\n",
    "    print('Last Name:', last_name)\n",
    "\n",
    "display_info(last_name = 'Ranjan', first_name = 'Vikas')"
   ]
  },
  {
   "cell_type": "markdown",
   "id": "2f4aa9ff-e205-4f4b-9d2d-cfa354e23c87",
   "metadata": {},
   "source": [
    "In keyword arguments, arguments are assigned based on the name of arguments. \n",
    "\n",
    "Here, we have assigned names to arguments during the function call.\n",
    "\n",
    "Hence, first_name in the function call is assigned to first_name in the function definition. Similarly, last_name in the function call is assigned to last_name in the function definition.\n",
    "\n",
    "In such scenarios, the position of arguments doesn't matter."
   ]
  },
  {
   "cell_type": "code",
   "execution_count": null,
   "id": "c1eaf43b-6a13-4a6c-ac0e-fc8cf3edf8cf",
   "metadata": {},
   "outputs": [],
   "source": [
    "#Q4. Create a Python function that accepts a variable number of arguments and calculates their sum."
   ]
  },
  {
   "cell_type": "code",
   "execution_count": 8,
   "id": "67a6de56-7a73-42c1-9538-32f3d3801be6",
   "metadata": {},
   "outputs": [
    {
     "name": "stdout",
     "output_type": "stream",
     "text": [
      "495\n"
     ]
    }
   ],
   "source": [
    "def sum_all(*args): \n",
    "    t=() \n",
    "    s=0 \n",
    "    for i in args: \n",
    "        s=s+i \n",
    "    print(s) \n",
    "\n",
    "sum_all(11,22,33,44,55,66,77,88,99)"
   ]
  },
  {
   "cell_type": "markdown",
   "id": "b311ba27-f232-419e-b756-a98a726aeb41",
   "metadata": {},
   "source": [
    "1). Define the function with argument as *args and define 2 variables s &t.\n",
    "\n",
    "2). Take a for loop and run it for i in args and store the sum in s.\n",
    "\n",
    "3). Finally print s and programe over."
   ]
  },
  {
   "cell_type": "code",
   "execution_count": null,
   "id": "53c9e9a0-9bcc-474f-b5a7-2a5f30d250d1",
   "metadata": {},
   "outputs": [],
   "source": [
    "#Q5. What is the purpose of the `*args` and `**kwargs` syntax in function parameter lists?"
   ]
  },
  {
   "cell_type": "markdown",
   "id": "ec2f61a6-bed7-464e-a7b0-0b26491a44d6",
   "metadata": {},
   "source": [
    "The *args and **kwargs syntax in function parameter lists allows a function to accept a variable number of arguments.\n",
    "\n",
    "*args is a tuple that will contain any positional arguments that are passed to the function beyond the number of required arguments. For example, if a function has two required arguments and you pass it three arguments, the third argument will be stored in *args.\n",
    "\n",
    "**kwargs is a dictionary that will contain any keyword arguments that are passed to the function. For example, if a function has two required arguments and you pass it three arguments, the third argument will be stored in kwargs.\n",
    "\n",
    "The *args and **kwargs syntax can be useful for writing functions that are more flexible and can be used with a wider range of arguments."
   ]
  },
  {
   "cell_type": "code",
   "execution_count": null,
   "id": "d7e59432-0a79-4d6c-b3fd-509e9b0f8f0c",
   "metadata": {},
   "outputs": [],
   "source": [
    "#Return Values and Scoping:"
   ]
  },
  {
   "cell_type": "code",
   "execution_count": null,
   "id": "2081d666-7bad-4fb3-a3de-a87f45155871",
   "metadata": {},
   "outputs": [],
   "source": [
    "#Q1. Describe the role of the `return` statement in Python functions and provide examples."
   ]
  },
  {
   "cell_type": "markdown",
   "id": "55bcb396-b169-494d-8d8c-76e616fa5d1e",
   "metadata": {},
   "source": [
    "1). A return statement is used to end the execution of the function call and “returns” the result to the caller.\n",
    "\n",
    "2). The statements after the return statements are not executed. If the return statement is without any expression, then the special value None is returned.\n",
    "\n",
    "3) A return statement is overall used to invoke a function so that the passed statements can be executed.\n",
    "\n",
    "4) Syntax:\n",
    "def fun():\n",
    "    \n",
    "    statements\n",
    "    \n",
    "    .\n",
    "    .\n",
    "    \n",
    "    return [expression]\n",
    "\n",
    "5). Example :"
   ]
  },
  {
   "cell_type": "code",
   "execution_count": 2,
   "id": "14d96f0a-ac13-4212-aaf6-298472cc97ab",
   "metadata": {},
   "outputs": [
    {
     "name": "stdin",
     "output_type": "stream",
     "text": [
      "Enter your total marks : 354\n"
     ]
    },
    {
     "name": "stdout",
     "output_type": "stream",
     "text": [
      "The percentange you got in this exam :  70.8\n"
     ]
    }
   ],
   "source": [
    "def percentage(total, obtained):\n",
    "    per=(obtained/total)*100\n",
    "    return per\n",
    "\n",
    "total=500\n",
    "obtained=int(input(\"Enter your total marks :\"))\n",
    "print(\"The percentange you got in this exam : \",percentage(total, obtained))"
   ]
  },
  {
   "cell_type": "code",
   "execution_count": null,
   "id": "5f3edcf4-e418-4a9c-b16c-74f2268fbd8b",
   "metadata": {},
   "outputs": [],
   "source": [
    "#Q2. Explain the concept of variable scope in Python, including local and global variables."
   ]
  },
  {
   "cell_type": "markdown",
   "id": "fa24420e-b766-43d2-9ead-d9bb1f8a2057",
   "metadata": {},
   "source": [
    "1).In Python, the scope of a variable determines where in the program the variable can be accessed.\n",
    "\n",
    "2).There are two types of scopes in Python: local and global.\n",
    "\n",
    "3).Local variables are declared inside a function and can only be accessed within that function. \n",
    "\n",
    "4).Global variables are declared outside of any function and can be accessed from anywhere in the program.\n",
    "\n",
    "5).Here is an example of local and global variables:"
   ]
  },
  {
   "cell_type": "code",
   "execution_count": 3,
   "id": "3f5f6333-1e8d-4dcd-a621-5b37899456bd",
   "metadata": {},
   "outputs": [
    {
     "name": "stdout",
     "output_type": "stream",
     "text": [
      "Hello Virat\n",
      "Hello Vikas\n"
     ]
    }
   ],
   "source": [
    "name=\"Vikas\" #Global variable \n",
    "def print_name():\n",
    "    name=\"Virat\"\n",
    "    print (\"Hello\",name)\n",
    "    \n",
    "print_name()\n",
    "print (\"Hello\",name)"
   ]
  },
  {
   "cell_type": "code",
   "execution_count": null,
   "id": "d84f9f29-af85-4653-8f10-fcea87f8a54d",
   "metadata": {},
   "outputs": [],
   "source": [
    "#Q3. Write a Python program that demonstrates the use of global variables within functions."
   ]
  },
  {
   "cell_type": "markdown",
   "id": "fce1939e-f80f-4612-9c23-34fb18c4791a",
   "metadata": {},
   "source": [
    "Variables that are created outside of a function are known as global variables.\n",
    "\n",
    "Global variables can be used by everyone, both inside of functions and outside.\n",
    "\n",
    "If you create a variable with the same name inside a function, this variable will be local, and can only be used inside the function. \n",
    "\n",
    "The global variable with the same name will remain as it was, global and with the original value."
   ]
  },
  {
   "cell_type": "code",
   "execution_count": null,
   "id": "1444cc48-a967-424e-a0e2-9ed54dccaa10",
   "metadata": {},
   "outputs": [],
   "source": [
    "#Q4.Create a Python function that calculates the factorial of a number and returns it."
   ]
  },
  {
   "cell_type": "code",
   "execution_count": 7,
   "id": "a27abdf8-513d-42a0-85c0-69f0195e3781",
   "metadata": {},
   "outputs": [
    {
     "name": "stdin",
     "output_type": "stream",
     "text": [
      "Enter your desired number to find factorial : 5\n"
     ]
    },
    {
     "name": "stdout",
     "output_type": "stream",
     "text": [
      "The factorial of your desired number is : 120\n"
     ]
    }
   ],
   "source": [
    "def fact(n):\n",
    "    i=1\n",
    "    for m in range (1,n+1):\n",
    "        i=i*m\n",
    "    return i\n",
    "\n",
    "n=int(input(\"Enter your desired number to find factorial :\"))\n",
    "print(\"The factorial of your desired number is :\",fact(n))"
   ]
  },
  {
   "cell_type": "markdown",
   "id": "2ab7686d-d8f0-4757-a383-096aa491092c",
   "metadata": {},
   "source": [
    "1). Take input from user for finding factorial of that number.\n",
    "\n",
    "2). Define a function fact and take another variable i and initialize with 1.\n",
    "\n",
    "3). Take for loop with a range 1 to n+1 and store the product of i and m.\n",
    "\n",
    "4). Finally return i and print it , end of program."
   ]
  },
  {
   "cell_type": "code",
   "execution_count": null,
   "id": "8b936e66-5834-4f1a-9ef4-4d78022b2b91",
   "metadata": {},
   "outputs": [],
   "source": [
    "#Q5.How can you access variables defined outside a function from within the function?"
   ]
  },
  {
   "cell_type": "markdown",
   "id": "e8181bea-eb4c-4ba5-b350-9cf2c6b8ff1d",
   "metadata": {},
   "source": [
    "To access variables defined outside a function from within the function, you can use the global keyword. \n",
    "\n",
    "The syntax is:\n",
    "    \n",
    "    global variable_name\n",
    "\n",
    "This will tell Python that you are referring to the global variable, and not a local variable with the same name.\n",
    "\n",
    "Example :"
   ]
  },
  {
   "cell_type": "code",
   "execution_count": 1,
   "id": "27125c7f-2c80-49cc-92b8-a5918026c454",
   "metadata": {},
   "outputs": [
    {
     "name": "stdout",
     "output_type": "stream",
     "text": [
      "10\n"
     ]
    }
   ],
   "source": [
    "x = 10\n",
    "\n",
    "def my_function():\n",
    "  global x\n",
    "  print(x)\n",
    "\n",
    "my_function()"
   ]
  },
  {
   "cell_type": "code",
   "execution_count": null,
   "id": "fe4efd4f-73bf-4ca6-838d-59715cad4483",
   "metadata": {},
   "outputs": [],
   "source": [
    "#Lambda Functions and Higher-Order Functions:"
   ]
  },
  {
   "cell_type": "code",
   "execution_count": null,
   "id": "985bff0e-179f-47ad-9da2-c200d22d3b8b",
   "metadata": {},
   "outputs": [],
   "source": [
    "#Q1.What are lambda functions in Python, and when are they typically used?"
   ]
  },
  {
   "cell_type": "markdown",
   "id": "c845f518-18dc-44f9-8614-0dc1ad83c036",
   "metadata": {},
   "source": [
    "Lambda functions are similar to user-defined functions but without a name. They're commonly referred to as anonymous functions.\n",
    "\n",
    "Lambda functions are efficient whenever you want to create a function that will only contain simple expressions – that is, expressions that are usually a single line of a statement.\n",
    "\n",
    "They're also useful when you want to use the function once.\n",
    "\n",
    "Syntax :\n",
    "\n",
    "lambda argument(s) : expression"
   ]
  },
  {
   "cell_type": "code",
   "execution_count": null,
   "id": "ad4c1ced-0f30-469b-8185-6a997ea5eb2b",
   "metadata": {},
   "outputs": [],
   "source": [
    "#Q2.Write a Python program that uses lambda functions to sort a list of tuples based on the second element"
   ]
  },
  {
   "cell_type": "code",
   "execution_count": 2,
   "id": "c2d0aa71-d4aa-4c80-8242-9d723bace5b1",
   "metadata": {},
   "outputs": [
    {
     "name": "stdout",
     "output_type": "stream",
     "text": [
      "Original list of tuples:\n",
      "[('English', 88), ('Science', 90), ('Maths', 97), ('Social sciences', 82)]\n",
      "\n",
      "Sorting the List of Tuples:\n",
      "[('Social sciences', 82), ('English', 88), ('Science', 90), ('Maths', 97)]\n"
     ]
    }
   ],
   "source": [
    "\n",
    "subject_marks = [('English', 88), ('Science', 90), ('Maths', 97), ('Social sciences', 82)]\n",
    "\n",
    "\n",
    "print(\"Original list of tuples:\")\n",
    "print(subject_marks)\n",
    "\n",
    "\n",
    "subject_marks.sort(key=lambda x: x[1])\n",
    "\n",
    "print(\"\\nSorting the List of Tuples:\")\n",
    "print(subject_marks) "
   ]
  },
  {
   "cell_type": "markdown",
   "id": "b336a92f-e19f-40b5-9fa4-1189cfc10f9c",
   "metadata": {},
   "source": [
    "1). Create a list of tuples named 'subject_marks', each tuple containing a subject and its corresponding marks\n",
    "\n",
    "2). Display the original list of tuples to the console\n",
    "\n",
    "3). Sort the 'subject_marks' list of tuples based on the second element of each tuple (the marks),\n",
    "\n",
    "4). Use a lambda function as the sorting key to extract the second element\n",
    "\n",
    "5). Display the sorted list of tuples to the console"
   ]
  },
  {
   "cell_type": "code",
   "execution_count": null,
   "id": "d6aff1bb-6d6f-424e-9906-fd45f85b25f7",
   "metadata": {},
   "outputs": [],
   "source": [
    "#Q3 Explain the concept of higher-order functions in Python, and provide an example."
   ]
  },
  {
   "cell_type": "markdown",
   "id": "66de05cd-ab0d-40bc-8da9-919fad9a959a",
   "metadata": {},
   "source": [
    "A function that takes another function as an argument, returns a function as a result, or both, is known as a higher-order function.\n",
    "\n",
    "These functions are a fundamental concept in functional programming, which is a programming paradigm that treats computation as the evaluation of mathematical functions.\n",
    "\n",
    "In Python, there are several built-in functions that are considered higher-order functions. These include:\n",
    "                        \n",
    "                        map(), which applies a function to each element of an iterable and returns a new iterable with the results.\n",
    "                        \n",
    "                        filter(), which returns an iterable containing the elements of an iterable that satisfy a given condition.\n",
    "                        \n",
    "                        reduce(), which applies a function to two elements of an iterable and returns a single value. \n",
    "                        This function is often used to perform calculations such as summation or multiplication.\n",
    "                        \n",
    "Here is an example of a higher-order function in Python:"
   ]
  },
  {
   "cell_type": "code",
   "execution_count": 3,
   "id": "313001c9-ba90-486e-9710-d320234bdf17",
   "metadata": {},
   "outputs": [
    {
     "name": "stdout",
     "output_type": "stream",
     "text": [
      "[1, 4, 9, 16]\n"
     ]
    }
   ],
   "source": [
    "def my_map(func, iterable):\n",
    "  result = []\n",
    "  for element in iterable:\n",
    "    result.append(func(element))\n",
    "  return result\n",
    "\n",
    "def square(x):\n",
    "  return x * x\n",
    "\n",
    "numbers = [1, 2, 3, 4]\n",
    "squared_numbers = my_map(square, numbers)\n",
    "\n",
    "print(squared_numbers)"
   ]
  },
  {
   "cell_type": "code",
   "execution_count": null,
   "id": "59080af6-9ff1-4a23-a131-54e3848800db",
   "metadata": {},
   "outputs": [],
   "source": [
    "#Q4. Create a Python function that takes a list of numbers and a function as arguments, applying the function to each element in the list."
   ]
  },
  {
   "cell_type": "code",
   "execution_count": 1,
   "id": "c5771edb-a2cd-4b11-a379-c99470874dd6",
   "metadata": {},
   "outputs": [
    {
     "name": "stdout",
     "output_type": "stream",
     "text": [
      "[1, 4, 9]\n"
     ]
    }
   ],
   "source": [
    "def apply_to_all(numbers, func):\n",
    "    results = []\n",
    "    for number in numbers:\n",
    "        result = func(number)\n",
    "        results.append(result)\n",
    "    return results\n",
    "\n",
    "\n",
    "numbers = [1, 2, 3]\n",
    "squared_numbers = apply_to_all(numbers, lambda x: x * x)\n",
    "print(squared_numbers)"
   ]
  },
  {
   "cell_type": "markdown",
   "id": "f323a369-c6eb-40c1-8595-c00b1824d01d",
   "metadata": {},
   "source": [
    " Applies a function to all elements of a list.\n",
    "    \n",
    "  Args:\n",
    "    numbers: A list of numbers.\n",
    "    func: A function that takes a number as an argument and returns a number.\n",
    "\n",
    "  Returns:\n",
    "    A list of the results of applying the function to each element of the list.\n"
   ]
  },
  {
   "cell_type": "code",
   "execution_count": null,
   "id": "91d9ce7a-e7b4-4e39-8791-4510dc064de7",
   "metadata": {},
   "outputs": [],
   "source": [
    "#Built-in Functions:"
   ]
  },
  {
   "cell_type": "code",
   "execution_count": null,
   "id": "ee394c5e-5e5e-4cb1-987a-bbce38e0209f",
   "metadata": {},
   "outputs": [],
   "source": [
    "#Q1.Describe the role of built-in functions like `len()`, `max()`, and `min()` in Python."
   ]
  },
  {
   "cell_type": "markdown",
   "id": "922b2421-9022-4468-96a0-1189441ca829",
   "metadata": {},
   "source": [
    "len(): This function returns the length of an object. For example, the length of a string is the number of characters in the string. The length of a list is the number of elements in the list.\n",
    "\n",
    "max(): This function returns the largest element in an iterable. For example, the largest element in a list of numbers is the number that is the greatest than all the other numbers in the list.\n",
    "\n",
    "min(): This function returns the smallest element in an iterable. For example, the smallest element in a list of numbers is the number that is the least than all the other numbers in the list."
   ]
  },
  {
   "cell_type": "code",
   "execution_count": null,
   "id": "fe4b68f3-9f9e-4cf0-95c3-7130c1babc77",
   "metadata": {},
   "outputs": [],
   "source": [
    "#Q2. Write a Python program that uses the `map()` function to apply a function to each element of a list."
   ]
  },
  {
   "cell_type": "code",
   "execution_count": null,
   "id": "4f7b692e-c017-4ff2-961a-a69206c61933",
   "metadata": {},
   "outputs": [],
   "source": [
    "\n",
    " \n",
    "# Return double of n\n",
    "def addition(n):\n",
    "    return n + n\n",
    "\n",
    "numbers = (1, 2, 3, 4)\n",
    "result = map(addition, numbers)\n",
    "print(list(result))"
   ]
  },
  {
   "cell_type": "markdown",
   "id": "e18e175e-6622-4d02-9ee3-6705686792e6",
   "metadata": {},
   "source": [
    "1) Python program to demonstrate working of map.\n",
    "\n",
    "2) Create a function and  Return double of n.\n",
    "\n",
    "3) Take numbers and call the function using map function .\n",
    "\n",
    "4) Store it in a variable result and at last print it in form of list."
   ]
  },
  {
   "cell_type": "code",
   "execution_count": 1,
   "id": "3db3ee67-8fb1-4eb6-85ba-e1b3a3673af0",
   "metadata": {},
   "outputs": [],
   "source": [
    "#Q3. How does the `filter()` function work in Python, and when would you use it?"
   ]
  },
  {
   "cell_type": "markdown",
   "id": "0440372b-041c-4da5-b251-c891cb153781",
   "metadata": {},
   "source": [
    "Filter() is a built-in function in Python. The filter function can be applied to an iterable such as a list or a dictionary and create a new iterator. This new iterator can filter out certain specific elements based on the condition that you provide very efficiently. \n",
    "\n",
    "The syntax for the filter() function in Python is - \n",
    "\n",
    "filter(function, iterable)\n",
    "\n",
    "Examples of Filter in Python"
   ]
  },
  {
   "cell_type": "code",
   "execution_count": 2,
   "id": "8e3479e4-5157-4d83-84f7-d697c6e9d99d",
   "metadata": {},
   "outputs": [
    {
     "name": "stdout",
     "output_type": "stream",
     "text": [
      "The type of returned object is:  <class 'filter'>\n",
      "The list of vowels is:  ['u', 'a', 'i', 'e']\n"
     ]
    }
   ],
   "source": [
    "def check(letter):\n",
    "    list_of_vowels = ['a', 'e', 'i', 'o', 'u']\n",
    "    if letter in list_of_vowels:\n",
    "        return True\n",
    "    else:\n",
    "        return False\n",
    "letters = ['u', 'a', 'q', 'c', 'i', 'd', 'z', 'p', 'e']\n",
    "filtered_object = filter(check, letters)\n",
    "print(\"The type of returned object is: \", type(filtered_object))\n",
    "filtered_list = list(filtered_object)\n",
    "print(\"The list of vowels is: \", filtered_list)"
   ]
  },
  {
   "cell_type": "code",
   "execution_count": null,
   "id": "7758a682-57e4-46cf-a268-4d4ec68795ba",
   "metadata": {},
   "outputs": [],
   "source": [
    "#Q4. Create a Python program that uses the `reduce()` function to find the product of all elements in a list."
   ]
  },
  {
   "cell_type": "code",
   "execution_count": 4,
   "id": "dc1c39d7-e49e-4d0c-a422-0456843a0d56",
   "metadata": {},
   "outputs": [
    {
     "name": "stdout",
     "output_type": "stream",
     "text": [
      "Product = 120\n"
     ]
    }
   ],
   "source": [
    "from functools import reduce  \n",
    "my_list = [1, 2, 3, 4, 5]  \n",
    "product = reduce(lambda x, y: x * y, my_list)   \n",
    "print(f\"Product = {product}\") "
   ]
  },
  {
   "cell_type": "markdown",
   "id": "3aed1665-14ac-49fd-aef8-517fac6918d3",
   "metadata": {},
   "source": [
    "Creating a list and initialize the value\n",
    "\n",
    "Calculating the product of the numbers in my_list using reduce and lambda functions together  \n",
    "\n",
    "Store it in a variable & Print output  \n",
    "\n",
    "Output : Product = 120  "
   ]
  },
  {
   "cell_type": "code",
   "execution_count": null,
   "id": "49eaf0db-9826-45e6-b0d7-1c72895930c2",
   "metadata": {},
   "outputs": [],
   "source": [
    "#Function Documentation and Best Practices:"
   ]
  },
  {
   "cell_type": "code",
   "execution_count": null,
   "id": "69f3482d-a806-438d-8e1a-02a5fdf84373",
   "metadata": {},
   "outputs": [],
   "source": [
    "#Q1. Explain the purpose of docstrings in Python functions and how to write them."
   ]
  },
  {
   "cell_type": "markdown",
   "id": "29d6f0b8-3528-492f-aa96-95c8f10d9051",
   "metadata": {},
   "source": [
    "A Python docstring is a string used to document a Python module, class, function or method, so programmers can understand what it does without having to read the details of the implementation.\n",
    "\n",
    "Also, it is a common practice to generate online (html) documentation automatically from docstrings.\n",
    "\n",
    "How to write docstrings in Python functions is as follow:\n",
    "\n",
    "A docstring is a string literal that occurs as the first statement in a module, function, class, or method definition.\n",
    "\n",
    "Docstrings are used to provide documentation for Python modules, classes, and methods, and are typically written in a specialized syntax called \"reStructuredText\" that is used to create formatted documentation.\n",
    "\n",
    "Docstrings should be descriptive and should explain what the function does, what parameters it takes, and what it returns.\n",
    "\n",
    "Docstrings should also be consistent in style and format.\n",
    "\n",
    "There are two main types of docstrings: single-line and multi-line.\n",
    "\n",
    "Single-line docstrings are typically used for simple functions that can be explained in a single line.\n",
    "\n",
    "Multi-line docstrings are typically used for more complex functions that require more explanation.\n",
    "\n",
    "Here is an example of a single-line docstring:"
   ]
  },
  {
   "cell_type": "code",
   "execution_count": 5,
   "id": "10270d4d-48c8-4d69-af53-9635f4c3f79b",
   "metadata": {},
   "outputs": [
    {
     "name": "stdin",
     "output_type": "stream",
     "text": [
      "First Number : 34\n",
      "Second Number : 45\n"
     ]
    },
    {
     "data": {
      "text/plain": [
       "79"
      ]
     },
     "execution_count": 5,
     "metadata": {},
     "output_type": "execute_result"
    }
   ],
   "source": [
    "def add_two_numbers(a, b):\n",
    "  \"\"\"Returns the sum of two numbers.\"\"\"\n",
    "  return a + b\n",
    "\n",
    "a=int(input(\"First Number :\"))\n",
    "b=int(input(\"Second Number :\"))\n",
    "add_two_numbers(a, b)"
   ]
  },
  {
   "cell_type": "code",
   "execution_count": 6,
   "id": "dfffad88-5161-4c1a-85d1-906fc4d94b26",
   "metadata": {},
   "outputs": [],
   "source": [
    "#Q2. Describe some best practices for naming functions and variables in Python, including naming conventions and guidelines."
   ]
  },
  {
   "cell_type": "markdown",
   "id": "91f6ebb1-609a-461c-ae5f-6ce5ff13805b",
   "metadata": {},
   "source": [
    "Python variables support three popular naming conventions:\n",
    "\n",
    "Camel case, where the first letter is lowercase and each subsequent word in a name begins with an uppercase letter.\n",
    "\n",
    "Snake case, where separate words are separated by underscores.\n",
    "\n",
    "Pascal case, where each word in a variable name begins with an uppercase letter.\n",
    "\n",
    "Python does not have an official naming convention, so you are free to choose between these."
   ]
  },
  {
   "cell_type": "code",
   "execution_count": null,
   "id": "b034378a-1e99-44cd-9f44-ca04c32a6ef9",
   "metadata": {},
   "outputs": [],
   "source": []
  }
 ],
 "metadata": {
  "kernelspec": {
   "display_name": "Python 3 (ipykernel)",
   "language": "python",
   "name": "python3"
  },
  "language_info": {
   "codemirror_mode": {
    "name": "ipython",
    "version": 3
   },
   "file_extension": ".py",
   "mimetype": "text/x-python",
   "name": "python",
   "nbconvert_exporter": "python",
   "pygments_lexer": "ipython3",
   "version": "3.10.8"
  }
 },
 "nbformat": 4,
 "nbformat_minor": 5
}
