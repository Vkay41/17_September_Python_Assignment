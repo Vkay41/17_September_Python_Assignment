{
 "cells": [
  {
   "cell_type": "code",
   "execution_count": null,
   "id": "9f70b258-25b2-493c-909d-3222681854cf",
   "metadata": {},
   "outputs": [],
   "source": [
    "#Map :-"
   ]
  },
  {
   "cell_type": "raw",
   "id": "2ca33351-a7e7-460d-b3d7-a3d215cbc382",
   "metadata": {},
   "source": [
    "Q1 Explain the purpose of the `map()` function in Python and provide an example of how it can be used to apply a function to each element of \n",
    "an iterable."
   ]
  },
  {
   "cell_type": "markdown",
   "id": "8cdb2d19-6ae2-4c55-894b-f6d6c3bf5095",
   "metadata": {},
   "source": [
    "Map in Python is a function that works as an iterator to return a result after applying a function to every item of an iterable (tuple, lists, etc.).\n",
    "\n",
    "It is used when you want to apply a single transformation function to all the iterable elements. The iterable and function are passed as arguments to the map in Python.\n",
    "\n",
    "The syntax of the Python map() function is:\n",
    "\n",
    "map(function, iterables)\n",
    "\n",
    "In the above syntax:\n",
    "\n",
    "function: It is the transformation function through which all the items of the iterable will be passed.\n",
    "\n",
    "iterables: It is the iterable (sequence, collection like list or tuple) that you want to map."
   ]
  },
  {
   "cell_type": "code",
   "execution_count": 4,
   "id": "cc63e4ea-352a-423a-9a64-00b3503c6e75",
   "metadata": {},
   "outputs": [
    {
     "name": "stdout",
     "output_type": "stream",
     "text": [
      "[6, 10, 14, 22, 26]\n"
     ]
    }
   ],
   "source": [
    "def double_num(i):\n",
    "\n",
    "    return i + i\n",
    "\n",
    "\n",
    "\n",
    "x = map(double_num, (3, 5, 7, 11, 13))\n",
    "\n",
    "\n",
    "print(list(x))"
   ]
  },
  {
   "cell_type": "raw",
   "id": "4c08e29b-323b-4803-bf1f-74bacc98fc5d",
   "metadata": {},
   "source": [
    "Q2. Write a Python program that uses the `map()` function to square each element of a list of numbers."
   ]
  },
  {
   "cell_type": "code",
   "execution_count": 3,
   "id": "ceeee4fd-3357-481e-b3fe-6a8b06e442de",
   "metadata": {},
   "outputs": [
    {
     "name": "stdout",
     "output_type": "stream",
     "text": [
      "[9, 25, 49, 121, 169]\n"
     ]
    }
   ],
   "source": [
    "def mul(i):\n",
    "\n",
    "    return i * i\n",
    "\n",
    "\n",
    "\n",
    "x = map(mul, (3, 5, 7, 11, 13))\n",
    "\n",
    "\n",
    "print(list(x))"
   ]
  },
  {
   "cell_type": "markdown",
   "id": "5a0e96a4-e41e-459a-9335-58b92f3e498c",
   "metadata": {},
   "source": [
    "Declare a function which take one argument and return its square.\n",
    "\n",
    "Now call the function and with the help of map() fuction pass the list as argument.\n",
    "\n",
    "Store the return value in a variable and finaly print the variable in list form\n",
    "\n",
    "Program ends"
   ]
  },
  {
   "cell_type": "raw",
   "id": "72422559-c6b0-454c-9339-f42e3884ecec",
   "metadata": {},
   "source": [
    "Q3 How does the `map()` function differ from a list comprehension in Python, and when would you choose one over the other?"
   ]
  },
  {
   "cell_type": "markdown",
   "id": "456a882c-7571-4d24-9479-1cdb016592b3",
   "metadata": {},
   "source": [
    "Map and For Loop can produce the same output, but they work differently. Inside \"for loop\", we iterate a variable fed to an expression within an Iterable. Whereas \"Map\" is used to map a function to all the elements of the given Iterable. It is a one-lined code configuration of \"for loop\". \n",
    "\n",
    "So, if we give the same input and write code to get the same output using \"map\" and \"for loop\", we will see from the time of execution on the IDE that their speed of execution is different. Run the below codes in your Python IDE and you will see that \"map\" is faster than \"for loop\". \n",
    "\n",
    "So, in map vs for loop python speed, map wins. "
   ]
  },
  {
   "cell_type": "raw",
   "id": "8bcb7626-7539-4952-accc-456a80761a6f",
   "metadata": {},
   "source": [
    "Q4 Create a Python program that uses the `map()` function to convert a list of names to uppercase."
   ]
  },
  {
   "cell_type": "code",
   "execution_count": 4,
   "id": "98be8fae-f88b-4778-bb77-0d3e6f72d4da",
   "metadata": {},
   "outputs": [
    {
     "name": "stdin",
     "output_type": "stream",
     "text": [
      "Enter the size of the list  3\n"
     ]
    },
    {
     "name": "stdout",
     "output_type": "stream",
     "text": [
      "\n",
      "\n"
     ]
    },
    {
     "name": "stdin",
     "output_type": "stream",
     "text": [
      "Enter the list items separated by space  ram naam japna\n"
     ]
    },
    {
     "name": "stdout",
     "output_type": "stream",
     "text": [
      "['RAM', 'NAAM', 'JAPNA']\n"
     ]
    }
   ],
   "source": [
    "n = int(input(\"Enter the size of the list \"))\n",
    "print(\"\\n\")\n",
    "lst=list(str(num) for num in input(\"Enter the list items separated by space \").strip().split())[:n]\n",
    "names_uppercase = list(map(str.upper, lst))\n",
    "print(names_uppercase)"
   ]
  },
  {
   "cell_type": "markdown",
   "id": "8ac8a312-2f10-4259-a154-23cb7e283a5b",
   "metadata": {},
   "source": [
    "Take a list as a user input . Firstly clarify number of element then by the hel of comprehinson take input.\n",
    "\n",
    "After that help of map function convert every string in uppercase and storwe in a variable.\n",
    "\n",
    "Finaly print the variable in which you stored the uppercase value.\n"
   ]
  },
  {
   "cell_type": "raw",
   "id": "60bfa13b-8eaa-4abb-9479-f60d26437009",
   "metadata": {},
   "source": [
    "Q5 Write a Python program that uses the `map()` function to calculate the length of each word in a list of strings."
   ]
  },
  {
   "cell_type": "code",
   "execution_count": 13,
   "id": "ad27a721-3ba3-4d92-aea2-b8f5b63d44d1",
   "metadata": {},
   "outputs": [
    {
     "name": "stdout",
     "output_type": "stream",
     "text": [
      "[3, 6, 8, 9, 4, 7, 7, 10]\n"
     ]
    }
   ],
   "source": [
    "def str_len(i):\n",
    "\n",
    "    return len(i)\n",
    "\n",
    "\n",
    "\n",
    "x = map(str_len, (\"Ram\", \"Bharat\",\"Lakshman\",\"Satrudhan\",\"Sita\" ,\"Mandavi\",\"Urmiila\",\"Shrutkirti\"))\n",
    "\n",
    "\n",
    "print(list(x))"
   ]
  },
  {
   "cell_type": "markdown",
   "id": "0845508c-b4db-4520-98c1-0f0e4098ea0d",
   "metadata": {},
   "source": [
    "Declare a function which take one string argument and return its length.\n",
    "\n",
    "Now call the function and with the help of map() fuction pass the list as argument.\n",
    "\n",
    "Store the return value in a variable and finaly print the variable in list form\n",
    "\n",
    "Program ends"
   ]
  },
  {
   "cell_type": "raw",
   "id": "6e0732e7-2af7-4fc0-b8df-bcb2abd68162",
   "metadata": {},
   "source": [
    "Q6 How can you use the `map()` function to apply a custom function to elements of multiple lists simultaneously in Python?"
   ]
  },
  {
   "cell_type": "markdown",
   "id": "1a45b9d9-e511-4842-bf94-561731880ef5",
   "metadata": {},
   "source": [
    "The map() function in Python takes a function and an iterable as arguments and returns a map object. The map object is an iterator that will return the results of applying the function to each element of the iterable.\n",
    "\n",
    "To apply a custom function to elements of multiple lists simultaneously in Python, you can use the map() function by passing the custom function and the lists as arguments to the map() function. The map() function will then return a map object that will iterate over the elements of the lists and apply the custom function to each element.\n",
    "\n",
    "Here is an example of how to use the map() function to apply a custom function to elements of multiple lists simultaneously in Python:"
   ]
  },
  {
   "cell_type": "code",
   "execution_count": 14,
   "id": "f5188991-28f6-4994-b64c-cf08b8c92b50",
   "metadata": {},
   "outputs": [
    {
     "name": "stdout",
     "output_type": "stream",
     "text": [
      "[5, 7, 9]\n"
     ]
    }
   ],
   "source": [
    "def custom_function(x, y):\n",
    "  return x + y\n",
    "\n",
    "\n",
    "lists = [[1, 2, 3], [4, 5, 6]]\n",
    "\n",
    "\n",
    "result = map(custom_function, *lists)\n",
    "\n",
    "\n",
    "print(list(result))"
   ]
  },
  {
   "cell_type": "raw",
   "id": "afc392f4-22f4-44d0-b274-37566c319f8d",
   "metadata": {},
   "source": [
    "Q7. Create a Python program that uses `map()` to convert a list of temperatures from Celsius to Fahrenheit."
   ]
  },
  {
   "cell_type": "code",
   "execution_count": 15,
   "id": "c6a7731c-6242-4039-86df-f052b7bb2750",
   "metadata": {},
   "outputs": [
    {
     "name": "stdout",
     "output_type": "stream",
     "text": [
      "[50.0, 68.0, 86.0, 104.0, 122.0]\n"
     ]
    }
   ],
   "source": [
    "def convert_celsius_to_fahrenheit(celsius):\n",
    "    return (celsius * 9 / 5) + 32\n",
    "\n",
    "\n",
    "temperatures_in_celsius = [10, 20, 30, 40, 50]\n",
    "temperatures_in_fahrenheit = list(map(convert_celsius_to_fahrenheit, temperatures_in_celsius))\n",
    "\n",
    "print(temperatures_in_fahrenheit)"
   ]
  },
  {
   "cell_type": "markdown",
   "id": "fd4251b2-2210-435a-9424-2cbe36357129",
   "metadata": {},
   "source": [
    "This program first defines a function called convert_celsius_to_fahrenheit(), which takes a temperature in Celsius as input and returns the corresponding temperature in Fahrenheit.\n",
    "\n",
    "Then, the program creates a list called temperatures_in_celsius containing some temperatures in Celsius.\n",
    "\n",
    "Finally, the program uses the map() function to apply the convert_celsius_to_fahrenheit() function to each element of temperatures_in_celsius and stores the results in a new list called temperatures_in_fahrenheit. \n",
    "\n",
    "The program then prints the list of temperatures in Fahrenheit."
   ]
  },
  {
   "cell_type": "raw",
   "id": "8ac1189c-213c-4ac9-98c9-abbca3d4e363",
   "metadata": {},
   "source": [
    "#Q8 Write a Python program that uses the `map()` function to round each element of a list of floating-point numbers to the nearest integer."
   ]
  },
  {
   "cell_type": "code",
   "execution_count": 17,
   "id": "a870bfb9-113c-467c-b616-2558c994c73c",
   "metadata": {},
   "outputs": [
    {
     "name": "stdout",
     "output_type": "stream",
     "text": [
      "[765, 876, 987, 543, 565, 735]\n"
     ]
    }
   ],
   "source": [
    "def round_off_number(i):\n",
    "\n",
    "    return round(i)\n",
    "\n",
    "\n",
    "\n",
    "x = map(round_off_number, (765.11,876.22,987.33,543.44,564.55,734.66))\n",
    "\n",
    "\n",
    "print(list(x))"
   ]
  },
  {
   "cell_type": "markdown",
   "id": "27e184a2-dd1d-4c7d-ab72-d9673658499a",
   "metadata": {},
   "source": [
    "Declare a function which take one float argument and return its round.\n",
    "\n",
    "Now call the function and with the help of map() fuction pass the list as argument.\n",
    "\n",
    "Store the return value in a variable and finaly print the variable in list form\n",
    "\n",
    "Program ends"
   ]
  },
  {
   "cell_type": "code",
   "execution_count": null,
   "id": "6a306f03-db63-43f1-8dd4-a51d9095a920",
   "metadata": {},
   "outputs": [],
   "source": [
    "#Reduce :-"
   ]
  },
  {
   "cell_type": "raw",
   "id": "ba8411c3-6431-47f7-b5e6-c953e3912e66",
   "metadata": {},
   "source": [
    "Q1 What is the `reduce()` function in Python, and what module should you import to use it? Provide an example of its basic usage."
   ]
  },
  {
   "cell_type": "markdown",
   "id": "eb6122d1-05d4-4541-944a-021e31eed43d",
   "metadata": {},
   "source": [
    "The reduce() function in Python is a built-in function that takes a function and an iterable as arguments and applies the function to the iterable to reduce it to a single value. The reduce() function is defined in the functools module.\n",
    "\n",
    "The syntax of the reduce() function is as follows:\n",
    "\n",
    "reduce(function, iterable, initializer=None)\n",
    "\n",
    "Here is an example of the basic usage of the reduce() function:"
   ]
  },
  {
   "cell_type": "code",
   "execution_count": 1,
   "id": "35c6f615-1030-4b3a-9692-74618f036bab",
   "metadata": {},
   "outputs": [
    {
     "name": "stdout",
     "output_type": "stream",
     "text": [
      "15\n"
     ]
    }
   ],
   "source": [
    "from functools import reduce\n",
    "numbers = [1, 2, 3, 4, 5]\n",
    "\n",
    "sum = reduce(lambda x, y: x + y, numbers)\n",
    "print(sum)"
   ]
  },
  {
   "cell_type": "raw",
   "id": "6967633c-ffe3-4e26-abed-182216355b6d",
   "metadata": {},
   "source": [
    "Q2 Write a Python program that uses the `reduce()` function to find the product of all elements in a list."
   ]
  },
  {
   "cell_type": "code",
   "execution_count": 2,
   "id": "d0b51e20-2bae-46f9-82a6-8a7ec94434c9",
   "metadata": {},
   "outputs": [
    {
     "name": "stdout",
     "output_type": "stream",
     "text": [
      "120\n"
     ]
    }
   ],
   "source": [
    "from functools import reduce\n",
    "numbers = [1, 2, 3, 4, 5]\n",
    "\n",
    "product = reduce(lambda x, y: x * y, numbers)\n",
    "print(product)"
   ]
  },
  {
   "cell_type": "markdown",
   "id": "4d9f63d8-68f9-4c7c-8f24-7f4d7633275b",
   "metadata": {},
   "source": [
    "We first imported the reduce() method from the functools module.\n",
    "\n",
    "We then defined a list of numbers and used the reduce() method to find their product. \n",
    "\n",
    "We passed a lambda function as the first argument to the reduce() method. \n",
    "\n",
    "This lambda function takes two arguments x and y and returns their product.\n",
    "\n",
    "The reduce() method applies this lambda function cumulatively to all elements in the list and returns their product."
   ]
  },
  {
   "cell_type": "markdown",
   "id": "725a8deb-0fa8-4ff4-a28a-89643d634c95",
   "metadata": {},
   "source": [
    "Q3 Create a Python program that uses `reduce()` to find the maximum element in a list of numbers."
   ]
  },
  {
   "cell_type": "code",
   "execution_count": 8,
   "id": "b93f8315-8519-44d2-87f9-fc7a3613f9ed",
   "metadata": {},
   "outputs": [
    {
     "name": "stdin",
     "output_type": "stream",
     "text": [
      "Enter the size of the list  7\n"
     ]
    },
    {
     "name": "stdout",
     "output_type": "stream",
     "text": [
      "\n",
      "\n"
     ]
    },
    {
     "name": "stdin",
     "output_type": "stream",
     "text": [
      "Enter the list items separated by space  11 22 33 44 55 66 77 \n"
     ]
    },
    {
     "name": "stdout",
     "output_type": "stream",
     "text": [
      "Maximum element in [11, 22, 33, 44, 55, 66, 77] : 77\n"
     ]
    }
   ],
   "source": [
    "from functools import reduce\n",
    "n = int(input(\"Enter the size of the list \"))\n",
    "print(\"\\n\")\n",
    "lst=list(int(num) for num in input(\"Enter the list items separated by space \").strip().split())[:n]\n",
    "max_num = reduce(lambda x, y: x if x > y else y, lst)\n",
    "print(\"Maximum element in\", lst, \":\", max_num)"
   ]
  },
  {
   "cell_type": "markdown",
   "id": "372bd317-f35e-4d92-82d0-3f89ac256d45",
   "metadata": {},
   "source": [
    "We imported the reduce() method from the functools module. \n",
    "\n",
    "We defined a list of numbers and used the reduce() method to find their maximum element. \n",
    "\n",
    "We passed a lambda function as the first argument to the reduce() method. \n",
    "\n",
    "This lambda function takes two arguments x and y and returns x if x is greater than y else y. \n",
    "\n",
    "The reduce() method applies this lambda function cumulatively to all elements in the list and returns their maximum element."
   ]
  },
  {
   "cell_type": "markdown",
   "id": "a7e80541-5d86-4ca5-b52d-6c9d80f7383b",
   "metadata": {},
   "source": [
    "Q4 How can you use the `reduce()` function to concatenate a list of strings into a single string?"
   ]
  },
  {
   "cell_type": "markdown",
   "id": "3a76099c-705f-462f-8b19-87397a8e3577",
   "metadata": {},
   "source": [
    "To use the reduce() function to concatenate a list of strings into a single string in Python, you can: \n",
    "\n",
    "        Import the reduce() function from the functools module.\n",
    "        \n",
    "        Define a function that takes two strings as arguments and concatenates them.\n",
    "        \n",
    "        Use the reduce() function to apply this function cumulatively to the elements of the list.\n",
    "        \n",
    "For example, the lambda function takes two arguments (x and y) and concatenates them with a space in between. \n",
    "\n",
    "The reduce() function applies this function to all elements in the list, resulting in a single string that combines all words in the list.\n",
    "\n",
    "The reduce() function is used with a lambda function to perform string concatenation (x + y) on each pair of strings in the strings list. \n",
    "\n",
    "The final result is a single string containing the concatenation of all the strings. \n"
   ]
  },
  {
   "cell_type": "raw",
   "id": "8650ecb6-4ec9-4fa9-b4fc-ee7ff0a8e1d6",
   "metadata": {},
   "source": [
    "Q5 Write a Python program that calculates the factorial of a number using the `reduce()` function."
   ]
  },
  {
   "cell_type": "code",
   "execution_count": 32,
   "id": "16b50e11-26ac-43b5-86c5-d706c004ae40",
   "metadata": {},
   "outputs": [
    {
     "name": "stdin",
     "output_type": "stream",
     "text": [
      "Enter the number : 7\n"
     ]
    },
    {
     "name": "stdout",
     "output_type": "stream",
     "text": [
      "Factorial of the number given as input is : 5040\n"
     ]
    }
   ],
   "source": [
    "from functools import reduce\n",
    "\n",
    "def factorial(n):\n",
    "    return reduce(lambda x, y: x * y, range(1, n + 1))\n",
    "\n",
    "n=int(input(\"Enter the number :\"))\n",
    "fact=factorial(n)\n",
    "print(\"Factorial of the number given as input is :\",fact)"
   ]
  },
  {
   "cell_type": "markdown",
   "id": "3bd3aa63-59aa-438a-9921-cb10b9b65cbd",
   "metadata": {},
   "source": [
    "We imported the reduce() method from the functools module.\n",
    "\n",
    "Now  define a function factorial which return the factorial of a number using lambda and reduce function\n",
    "\n",
    "After that declare a variable which take number as input from the user \n",
    "\n",
    "Now take a variable and call a function so that the return valuee should be stored in the vafriable\n",
    "\n",
    "At last print the variable in which you stored the returned value \n",
    "\n",
    "Program ends"
   ]
  },
  {
   "cell_type": "raw",
   "id": "3b06ec75-a369-40fb-a565-b17577d2fd66",
   "metadata": {},
   "source": [
    "#Q6 Create a Python program that uses `reduce()` to find the GCD (Greatest Common Divisor) of a list of numbers."
   ]
  },
  {
   "cell_type": "code",
   "execution_count": 34,
   "id": "2e4f9d4a-db37-41bb-8990-012d5ce52dbb",
   "metadata": {},
   "outputs": [
    {
     "name": "stdin",
     "output_type": "stream",
     "text": [
      "Enter the list of number seprating them by space : 10 20 30 40\n"
     ]
    },
    {
     "name": "stdout",
     "output_type": "stream",
     "text": [
      "10\n"
     ]
    }
   ],
   "source": [
    "\n",
    "\n",
    "from functools import reduce\n",
    "def computeGCD(x, y):\n",
    "    while(y):\n",
    "       x, y = y, x % y\n",
    "    return abs(x)\n",
    "\n",
    "\n",
    "find_gcd_lst=list(map(int,input(\"Enter the list of number seprating them by space :\").split()))\n",
    "find_gcd=reduce(computeGCD,find_gcd_lst)\n",
    "print(find_gcd)\n",
    "\n",
    "\n"
   ]
  },
  {
   "cell_type": "markdown",
   "id": "7b2b54d6-9bc0-4ac8-b965-20955d795098",
   "metadata": {},
   "source": [
    "We imported the reduce() method from the functools module.\n",
    "\n",
    "Now define a function computeGCD in which return the GCD of x and y two argument using while loop and absolute function\n",
    "\n",
    "After that declare a variable which take list as input from the user\n",
    "\n",
    "Now call the function with the help of reduce function for passing list as argument. Declare a variable to store the return \n",
    "value of function passed.\n",
    "\n",
    "At last print the variable in which you stored the returned value.\n",
    "\n",
    "Program ends"
   ]
  },
  {
   "cell_type": "raw",
   "id": "4a3a150c-0ab5-41db-b60e-7f77f7aa3956",
   "metadata": {},
   "source": [
    "Q7 Write a Python program that uses the `reduce()` function to find the sum of the digits of a given number."
   ]
  },
  {
   "cell_type": "code",
   "execution_count": 31,
   "id": "7c54dec5-f2a0-4841-b04a-bceae808f254",
   "metadata": {},
   "outputs": [
    {
     "name": "stdin",
     "output_type": "stream",
     "text": [
      "Enter the number : 13579\n"
     ]
    },
    {
     "name": "stdout",
     "output_type": "stream",
     "text": [
      "The sum of digits of the number is : 25\n"
     ]
    }
   ],
   "source": [
    "from functools import reduce\n",
    "num=int(input(\"Enter the number :\"))\n",
    "numb_lst=list(str(num))\n",
    "res = [eval(i) for i in numb_lst]\n",
    "num_lst_sum=reduce(lambda a,b:a+b,res)\n",
    "print(\"The sum of digits of the number is :\",num_lst_sum)\n"
   ]
  },
  {
   "cell_type": "markdown",
   "id": "a27d92e3-46d6-4855-aff8-16fc0643531e",
   "metadata": {},
   "source": [
    "We imported the reduce() method from the functools module.\n",
    "\n",
    "After that declare a variable which take list as input from the user\n",
    "\n",
    "Now with the help of variable , loop and eval function find the sum of the number & store in a variable.\n",
    "\n",
    "At last print the variable in which you stored the value.\n",
    "\n",
    "Program ends"
   ]
  },
  {
   "cell_type": "raw",
   "id": "4d983fd0-0e1d-4894-8f99-2d20880d94d0",
   "metadata": {},
   "source": [
    "Filter :-"
   ]
  },
  {
   "cell_type": "raw",
   "id": "476fb7e4-0a4e-4d25-aa1c-7c11c1380fe8",
   "metadata": {},
   "source": [
    "Q1 Explain the purpose of the `filter()` function in Python and provide an example of how it can be used to filter elements\n",
    "   from an iterable."
   ]
  },
  {
   "cell_type": "markdown",
   "id": "3ab833cc-cfcd-46b2-8d6b-87283439600a",
   "metadata": {},
   "source": [
    "The filter() function selects elements from an iterable (list, tuple etc.) based on the output of a function.\n",
    "\n",
    "The function is applied to each element of the iterable and if it returns True, the element is selected by the filter() function.\n",
    "\n",
    "Syntax:\n",
    "       filter(function,value)\n",
    "       \n",
    "Example:"
   ]
  },
  {
   "cell_type": "code",
   "execution_count": 5,
   "id": "8bf2bdcf-f91f-4d0f-a6b7-9c5330eb8ba9",
   "metadata": {},
   "outputs": [
    {
     "name": "stdout",
     "output_type": "stream",
     "text": [
      "['a', 'e', 'i', 'o']\n"
     ]
    }
   ],
   "source": [
    "vowels = ['a', 'e', 'i', 'o', 'u']\n",
    "letters = ['a', 'b', 'd', 'e', 'i', 'j', 'o']\n",
    "filtered_vowels = filter(lambda a:a in vowels, letters)\n",
    "vowels = list(filtered_vowels)\n",
    "print(vowels)"
   ]
  },
  {
   "cell_type": "raw",
   "id": "020abfdf-373e-4337-ab69-9fa9113fa985",
   "metadata": {},
   "source": [
    "#Q2 Write a Python program that uses the `filter()` function to select even numbers from a list of integers."
   ]
  },
  {
   "cell_type": "code",
   "execution_count": 10,
   "id": "ddb844de-06f5-40e2-9774-0539ee0a9276",
   "metadata": {},
   "outputs": [
    {
     "name": "stdin",
     "output_type": "stream",
     "text": [
      "Enter the size of the list  8\n"
     ]
    },
    {
     "name": "stdout",
     "output_type": "stream",
     "text": [
      "\n",
      "\n"
     ]
    },
    {
     "name": "stdin",
     "output_type": "stream",
     "text": [
      "Enter the list items separated by space  11 22 33 44 55 66 77 88\n"
     ]
    },
    {
     "name": "stdout",
     "output_type": "stream",
     "text": [
      "[22, 44, 66, 88]\n"
     ]
    }
   ],
   "source": [
    "n = int(input(\"Enter the size of the list \"))\n",
    "print(\"\\n\")\n",
    "lst=list(int(num) for num in input(\"Enter the list items separated by space \").strip().split())[:n]\n",
    "even=filter(lambda num: num % 2 == 0 , lst)\n",
    "print(list(even))"
   ]
  },
  {
   "cell_type": "markdown",
   "id": "16ca0100-0d5e-4f6d-a27e-6272ddb88810",
   "metadata": {},
   "source": [
    "Firstly take variable to store number of element in the list.\n",
    "\n",
    "After take a new variable in which store the list.\n",
    "\n",
    "Now with the help of filter & lambda function find the even number & store in a new variable .\n",
    "\n",
    "At last print the variable in which you stored the value in the form of list.\n",
    "\n",
    "Program ends"
   ]
  },
  {
   "cell_type": "raw",
   "id": "7aff8da8-7b94-4081-ae76-c7261d355605",
   "metadata": {},
   "source": [
    "#Q3 Create a Python program that uses the `filter()` function to select names that start with a specific letter from a list of strings."
   ]
  },
  {
   "cell_type": "code",
   "execution_count": 16,
   "id": "49d0db9c-8966-4afe-be6d-f1a1a985fb6f",
   "metadata": {},
   "outputs": [
    {
     "name": "stdin",
     "output_type": "stream",
     "text": [
      "Enter the size of the list  14\n"
     ]
    },
    {
     "name": "stdout",
     "output_type": "stream",
     "text": [
      "\n",
      "\n"
     ]
    },
    {
     "name": "stdin",
     "output_type": "stream",
     "text": [
      "Enter the list items separated by space  Acharya Basu Bedi Jain Jha Varma Yadav Banerjee Deshpande Gandhi Ghosh Joshi Naidu Seth \n",
      "Please enter specfic alphabet B\n"
     ]
    },
    {
     "name": "stdout",
     "output_type": "stream",
     "text": [
      "['Basu', 'Bedi', 'Banerjee']\n"
     ]
    }
   ],
   "source": [
    "def filter_names(lst, letter):\n",
    "    filtered_names = []\n",
    "    for name in lst:\n",
    "        if name.startswith(letter):\n",
    "            filtered_names.append(name)\n",
    "    return filtered_names\n",
    "\n",
    "\n",
    "n = int(input(\"Enter the size of the list \"))\n",
    "print(\"\\n\")\n",
    "lst=list(str(num) for num in input(\"Enter the list items separated by space \").strip().split())[:n]\n",
    "letter = str(input(\"Please enter specfic alphabet\"))\n",
    "filtered_names = filter_names(lst, letter)\n",
    "print(filtered_names)"
   ]
  },
  {
   "cell_type": "markdown",
   "id": "816dec7e-3c7f-492b-97a2-d89649b8eed5",
   "metadata": {},
   "source": [
    "This program defines a function called filter_names() that takes two arguments: a list of names and a letter.\n",
    "\n",
    "The function iterates over the list of names and adds each name to a new list if it starts with the given letter.\n",
    "\n",
    "The function then returns the new list of names.\n",
    "\n",
    "The main block of the program takes a list of names and a letter as user input. \n",
    "\n",
    "It then calls the filter_names() function with the list of names and the letter. \n",
    "\n",
    "The function returns a list of names that start with the given letter. The main block then prints the list of names."
   ]
  },
  {
   "cell_type": "raw",
   "id": "a571c429-5c63-488a-a724-90c7de35b8e8",
   "metadata": {},
   "source": [
    "#Q4 Write a Python program that uses the `filter()` function to select prime numbers from a list of integers."
   ]
  },
  {
   "cell_type": "code",
   "execution_count": 11,
   "id": "a8bc9e14-1d91-4e37-b186-e955aac1f102",
   "metadata": {},
   "outputs": [
    {
     "name": "stdin",
     "output_type": "stream",
     "text": [
      "Enter the list items separated by space : 13 15 17 19 21 25 29 33 37\n"
     ]
    },
    {
     "name": "stdout",
     "output_type": "stream",
     "text": [
      "List of integers:\n",
      "[13, 15, 17, 19, 21, 25, 29, 33, 37]\n",
      "\n",
      "Extract prime numbers of the said list:\n",
      "[13, 17, 19, 29, 37]\n"
     ]
    }
   ],
   "source": [
    "\n",
    "def is_prime(n):\n",
    "    if n <= 1:\n",
    "        return False\n",
    "    if n <= 3:\n",
    "        return True\n",
    "    if n % 2 == 0 or n % 3 == 0:\n",
    "        return False\n",
    "    i = 5\n",
    "    while i * i <= n:\n",
    "        if n % i == 0 or n % (i + 2) == 0:\n",
    "            return False\n",
    "        i += 6\n",
    "    return True\n",
    "\n",
    "\n",
    "numbers = list(map(int,input(\"Enter the list items separated by space :\").split()))\n",
    "print(\"List of integers:\")\n",
    "print(numbers)\n",
    "prime_numbers = list(filter(is_prime, numbers))\n",
    "print(\"\\nExtract prime numbers of the said list:\")\n",
    "print(prime_numbers)\n",
    "\n"
   ]
  },
  {
   "cell_type": "markdown",
   "id": "e901c8b7-c526-4993-85fb-56a8c6ec6baf",
   "metadata": {},
   "source": [
    "First, we define a function called \"is_prime()\" that checks if a given number n is prime. This function uses the primality test with optimizations.\n",
    "\n",
    "Define a list called 'numbers' to take list of integers as input.\n",
    "\n",
    "Next, we use the filter function to filter out prime numbers from the numbers list by applying the \"is_prime()\" function as the filtering condition.\n",
    "\n",
    "The filtered prime numbers are converted to a list, and we print the extracted prime numbers."
   ]
  },
  {
   "cell_type": "raw",
   "id": "1d074e29-ed89-4afa-b798-2aa7f911ebd2",
   "metadata": {},
   "source": [
    "#Q5 How can you use the `filter()` function to remove None values from a list in Python?"
   ]
  },
  {
   "cell_type": "code",
   "execution_count": 25,
   "id": "3a64874c-349b-4c12-b706-88c8e826f501",
   "metadata": {},
   "outputs": [
    {
     "name": "stdout",
     "output_type": "stream",
     "text": [
      "The original list is : [1, None, 4, None, None, 5, 8, None, None]\n",
      "List after removal of None values : [1, 4, 5, 8]\n"
     ]
    }
   ],
   "source": [
    "test_list = [1, None, 4, None, None, 5, 8, None, None]\n",
    " \n",
    "\n",
    "print (\"The original list is : \" + str(test_list))\n",
    " \n",
    "\n",
    "res = list(filter(lambda item: item is not None, test_list))\n",
    " \n",
    "print (\"List after removal of None values : \" + str(res))"
   ]
  },
  {
   "cell_type": "markdown",
   "id": "485c3e20-f806-4a0a-97cc-6ef9b50e243b",
   "metadata": {},
   "source": [
    "Firstly start with initializing list\n",
    "\n",
    "Then by printing original list\n",
    "\n",
    "After that using filter() function try to remove None values in list\n",
    "\n",
    "At last print the res variable in which you have stored the filtered list.\n",
    "\n",
    "Progarm ends."
   ]
  },
  {
   "cell_type": "raw",
   "id": "2768a94f-f02b-4e7d-aeed-13fa1c19e4c9",
   "metadata": {},
   "source": [
    "#Q6 Create a Python program that uses `filter()` to select words longer than a certain length from a list of strings"
   ]
  },
  {
   "cell_type": "code",
   "execution_count": 9,
   "id": "75fe3c85-d147-4f1f-847c-b6318512c999",
   "metadata": {},
   "outputs": [
    {
     "name": "stdin",
     "output_type": "stream",
     "text": [
      "Enter the size of the list  14\n"
     ]
    },
    {
     "name": "stdout",
     "output_type": "stream",
     "text": [
      "\n",
      "\n"
     ]
    },
    {
     "name": "stdin",
     "output_type": "stream",
     "text": [
      "Enter the list items separated by space  Acharya Basu Bedi Jain Jha Varma Yadav Banerjee Deshpande Gandhi Ghosh Joshi Naidu Seth\n",
      "Please enter specfic length 4\n"
     ]
    },
    {
     "name": "stdout",
     "output_type": "stream",
     "text": [
      "['Acharya', 'Varma', 'Yadav', 'Banerjee', 'Deshpande', 'Gandhi', 'Ghosh', 'Joshi', 'Naidu']\n"
     ]
    }
   ],
   "source": [
    "def filter_len(lst, length):\n",
    "    filtered_lens = []\n",
    "    for name in lst:\n",
    "        if len(name)>length:\n",
    "            filtered_lens.append(name)\n",
    "    return filtered_lens\n",
    "\n",
    "\n",
    "n = int(input(\"Enter the size of the list \"))\n",
    "print(\"\\n\")\n",
    "lst=list(str(num) for num in input(\"Enter the list items separated by space \").strip().split())[:n]\n",
    "length = int(input(\"Please enter specfic length\"))\n",
    "filtered_length = filter_len(lst, length)\n",
    "print(filtered_length)"
   ]
  },
  {
   "cell_type": "markdown",
   "id": "5abbd686-9ba2-4a79-9f86-71c565911241",
   "metadata": {},
   "source": [
    "This program defines a function called filter_len() that takes two arguments: a list of names and a length.\n",
    "\n",
    "The function iterates over the list of names and adds each name to a new list if the length of the string is greater than the length.\n",
    "\n",
    "The function then returns the new list of names.\n",
    "\n",
    "The main block of the program takes a list of names and a length as user input. \n",
    "\n",
    "It then calls the filter_names() function with the list of names and the length. \n",
    "\n",
    "The function returns a list of names that have length more than length variable which is stored in a variable filtered_length. \n",
    "\n",
    "Finally,The main block then prints the variable which contains the list of names."
   ]
  },
  {
   "cell_type": "raw",
   "id": "4fac5c6d-d4b3-4631-9b14-d32353ff04d7",
   "metadata": {},
   "source": [
    "#Q7 Write a Python program that uses the `reduce()` function to find the sum of the digits of a given number."
   ]
  },
  {
   "cell_type": "code",
   "execution_count": 29,
   "id": "ca4f714c-35f1-40c0-8e8b-b30b21fa62cd",
   "metadata": {},
   "outputs": [
    {
     "name": "stdin",
     "output_type": "stream",
     "text": [
      "Enter the size of the list  8\n"
     ]
    },
    {
     "name": "stdout",
     "output_type": "stream",
     "text": [
      "\n",
      "\n"
     ]
    },
    {
     "name": "stdin",
     "output_type": "stream",
     "text": [
      "Enter the list items separated by space  11 22 33 44 55 66 77 88\n",
      "Please enter specfic number 50\n"
     ]
    },
    {
     "name": "stdout",
     "output_type": "stream",
     "text": [
      "[55, 66, 77, 88]\n"
     ]
    }
   ],
   "source": [
    "def filter_greater(lst, x):\n",
    "    filtered_great = []\n",
    "    for n in lst:\n",
    "        if n>x:\n",
    "            filtered_great.append(n)\n",
    "    return filtered_great\n",
    "\n",
    "\n",
    "n = int(input(\"Enter the size of the list \"))\n",
    "print(\"\\n\")\n",
    "lst=list(int(num) for num in input(\"Enter the list items separated by space \").strip().split())[:n]\n",
    "x = int(input(\"Please enter specfic number\"))\n",
    "filtered_num = filter_greater(lst, x)\n",
    "print(filtered_num)"
   ]
  },
  {
   "cell_type": "markdown",
   "id": "2dc2ff5f-fa04-44e5-a2f6-f90489b67283",
   "metadata": {},
   "source": [
    "This program defines a function called filter_greater() that takes two arguments: a list of integers and a number.\n",
    "\n",
    "The function iterates over the list of integers and adds each number to a new list if it is greater than the number x.\n",
    "\n",
    "The function then returns the new list of integers.\n",
    "\n",
    "The main block of the program takes a list of integers and a number as user input. \n",
    "\n",
    "The function returns a list of integers that have a value more than the x which is stored in a variable filtered_length. \n",
    "\n",
    "Finally,The main block then prints the variable which contains the filtered list of integers."
   ]
  },
  {
   "cell_type": "raw",
   "id": "8233034e-386c-4911-9b7e-e5c5022a384f",
   "metadata": {},
   "source": [
    "Recursion:-"
   ]
  },
  {
   "cell_type": "raw",
   "id": "3de5b53d-c7a6-4c98-8cfa-28ebdb88d7e5",
   "metadata": {},
   "source": [
    "#Q1 Explain the concept of recursion in Python. How does it differ from iteration?"
   ]
  },
  {
   "cell_type": "markdown",
   "id": "dbac5310-263f-420a-acdd-fa72c072bf2c",
   "metadata": {},
   "source": [
    "Recursion is defined as a process which calls itself directly or indirectly and the corresponding function is called a recursive function.\n",
    "\n",
    "Recursion has some important properties. Some of which are mentioned below:\n",
    "\n",
    "          The primary property of recursion is the ability to solve a problem by breaking it down into smaller sub-problems, \n",
    "          each of which can be solved in the same way.\n",
    "\n",
    "          A recursive function must have a base case or stopping criteria to avoid infinite recursion.\n",
    "        \n",
    "          Recursion involves calling the same function within itself, which leads to a call stack.\n",
    "\n",
    "          Recursive functions may be less efficient than iterative solutions in terms of memory and performance.\n",
    "\n",
    "Types of Recursion:\n",
    "\n",
    "         Tail recursion,  \n",
    "\n",
    "         Head recursion,  \n",
    "         \n",
    "         Tree recursion  \n",
    "         \n",
    "         Nested recursion."
   ]
  },
  {
   "cell_type": "raw",
   "id": "92ac54e7-e9e1-442b-9c3f-317aab949b88",
   "metadata": {},
   "source": [
    "#Q2 Write a Python program to calculate the factorial of a number using recursion."
   ]
  },
  {
   "cell_type": "code",
   "execution_count": 2,
   "id": "8140cbd8-0d4e-4614-9509-1fc52422f958",
   "metadata": {},
   "outputs": [
    {
     "name": "stdin",
     "output_type": "stream",
     "text": [
      "Enter the number : 5\n"
     ]
    },
    {
     "name": "stdout",
     "output_type": "stream",
     "text": [
      "The factorial of 5 is 120\n"
     ]
    }
   ],
   "source": [
    "def recur_factorial(n):\n",
    "   if n == 1:\n",
    "       return n\n",
    "   else:\n",
    "       return n*recur_factorial(n-1)\n",
    "\n",
    "num = int(input(\"Enter the number :\"))\n",
    "\n",
    "\n",
    "if num < 0:\n",
    "   print(\"Sorry, factorial does not exist for negative numbers\")\n",
    "elif num == 0:\n",
    "   print(\"The factorial of 0 is 1\")\n",
    "else:\n",
    "   print(\"The factorial of\", num, \"is\", recur_factorial(num))"
   ]
  },
  {
   "cell_type": "markdown",
   "id": "924c64a1-fca4-47bf-a96a-c3617bb82954",
   "metadata": {},
   "source": [
    "First, we define a function called \"recur_factorial()\" that firsly check if nis equal to 1 if not then return n multipled by function call with argument n-1 \n",
    "\n",
    "Define a variable called 'num' to take a integers as input.\n",
    "\n",
    "Next, we use the conditional statement check if the number is negative or zero if not then call the function.\n",
    "\n",
    "The last step print the value returned by the function which would be the factorial of the input number."
   ]
  },
  {
   "cell_type": "raw",
   "id": "97b836a3-eff2-4b7c-abe7-b43c2222b2bd",
   "metadata": {},
   "source": [
    "#Q3 Create a recursive Python function to find the nth Fibonacci number."
   ]
  },
  {
   "cell_type": "code",
   "execution_count": 4,
   "id": "5bd095a2-1981-463d-b720-19f57066a24a",
   "metadata": {},
   "outputs": [
    {
     "name": "stdout",
     "output_type": "stream",
     "text": [
      "12th Element of the Fibonacci Series: 144\n"
     ]
    }
   ],
   "source": [
    "def Fibonacci_Series(n):   \n",
    "    if n < 0:  \n",
    "        print(\"Oops! Incorrect input\")  \n",
    "    elif n == 0:   \n",
    "        return (0)   \n",
    "    elif n == 1:  \n",
    "        return (1)  \n",
    "    else:  \n",
    "        return (Fibonacci_Series(n - 1) + Fibonacci_Series(n - 2))   \n",
    "\n",
    "    \n",
    "    \n",
    "print(\"12th Element of the Fibonacci Series:\", Fibonacci_Series(12))  "
   ]
  },
  {
   "cell_type": "markdown",
   "id": "45cfd231-da28-46be-bca6-c0b919cab019",
   "metadata": {},
   "source": [
    "In the above snippet of code, we have defined a function as Fibonacci_Series() that accepts a parameter as n.\n",
    "\n",
    "Moreover, we are aware that the first two elements of the Fibonacci are 0 and 1. \n",
    "\n",
    "In the event of the input as n = 1 or n = 2 (First or Second terms of Fibonacci series), we have used the if-else conditional statement to \n",
    "return 0 or 1.\n",
    "\n",
    "In case the value of n is greater than 2, the function will call itself with a lower input value. As we can observe that the code returns (Fibonacci_Series(n - 1) + Fibonacci_Series(n - 2)).\n",
    "\n",
    "Here, the function calls itself with a lower value unless it reaches the base value of n = 1 and n = 2, and as we know from before, n = 1 returns 0 and n = 2 returns 1. \n",
    "\n",
    "The returned values are then continuously added to produce the sequence of the Fibonacci Series."
   ]
  },
  {
   "cell_type": "raw",
   "id": "b9fe8b17-5868-4522-85e8-094fd3f6b4c5",
   "metadata": {},
   "source": [
    "#Q4 Write a recursive Python function to calculate the sum of all elements in a list."
   ]
  },
  {
   "cell_type": "code",
   "execution_count": 5,
   "id": "c21954a2-ebb3-4c5c-bf17-22468febcff4",
   "metadata": {},
   "outputs": [
    {
     "name": "stdin",
     "output_type": "stream",
     "text": [
      "Enter the number of elements for list: 9\n",
      "Enter element: 11\n",
      "Enter element: 22\n",
      "Enter element: 33\n",
      "Enter element: 44\n",
      "Enter element: 55\n",
      "Enter element: 66\n",
      "Enter element: 77\n",
      "Enter element: 88\n",
      "Enter element: 99\n"
     ]
    },
    {
     "name": "stdout",
     "output_type": "stream",
     "text": [
      "The list is:\n",
      "[11, 22, 33, 44, 55, 66, 77, 88, 99]\n",
      "Sum of items in list:\n",
      "495\n"
     ]
    }
   ],
   "source": [
    "def sum_arr(arr,size):\n",
    "   if (size == 0):\n",
    "     return 0\n",
    "   else:\n",
    "     return arr[size-1] + sum_arr(arr,size-1)\n",
    "n=int(input(\"Enter the number of elements for list:\"))\n",
    "a=[]\n",
    "for i in range(0,n):\n",
    "    element=int(input(\"Enter element:\"))\n",
    "    a.append(element)\n",
    "print(\"The list is:\")\n",
    "print(a)\n",
    "print(\"Sum of items in list:\")\n",
    "b=sum_arr(a,n)\n",
    "print(b)"
   ]
  },
  {
   "cell_type": "markdown",
   "id": "d1d1fdab-1305-4126-a532-5d8537248eeb",
   "metadata": {},
   "source": [
    "1. Define a recursive function which takes an array and the size of the array as arguments.\n",
    "\n",
    "2. Declare an empty list and initialize it to an empty list.\n",
    "\n",
    "3. Consider a for loop to accept values for the list.\n",
    "\n",
    "4. Take the number of elements in the list and store it in a variable.\n",
    "\n",
    "5. Accept the values into the list using another for loop and insert into the list.\n",
    "\n",
    "6. Pass the list and the size of the list as arguments to the recursive function.\n",
    "\n",
    "7. If the size of the list is zero, return 0.\n",
    "\n",
    "8. Otherwise return the sum of the last element of the list along with the recursive function call (with the size reduced by 1).\n",
    "\n",
    "9. The returned value is stored in a variable and the final sum is printed.\n",
    "\n",
    "9. Exit."
   ]
  },
  {
   "cell_type": "raw",
   "id": "a260c5f2-6b09-4a10-a988-6344725295b4",
   "metadata": {},
   "source": [
    "#Q5 How can you prevent a recursive function from running indefinitely, causing a stack overflow error?"
   ]
  },
  {
   "cell_type": "markdown",
   "id": "cdb97a76-0aec-4827-b2df-50768eeb8de8",
   "metadata": {},
   "source": [
    "The “sys” module in Python provides a function called setrecursionlimit() to modify the recursion limit in Python. \n",
    "\n",
    "It takes one parameter, the value of the new recursion limit. By default, this value is usually 10^3. \n",
    "\n",
    "If you are dealing with large inputs, you can set it to, 10^6 so that large inputs can be handled without any errors.\n",
    "\n",
    "Example:\n",
    "\n",
    "Consider a program to compute the factorial of a number using recursion.\n",
    "\n",
    "When given a large input, the program crashes and gives a “maximum recursion depth exceeded error”."
   ]
  },
  {
   "cell_type": "raw",
   "id": "84c480db-35c1-44f1-9b9f-ed384c1d76f7",
   "metadata": {},
   "source": [
    "#Q6 Create a recursive Python function to find the greatest common divisor (GCD) of two numbers using the Euclidean algorithm."
   ]
  },
  {
   "cell_type": "code",
   "execution_count": 7,
   "id": "ba17f5d0-911f-4376-b973-cee0fe13cb85",
   "metadata": {},
   "outputs": [
    {
     "name": "stdin",
     "output_type": "stream",
     "text": [
      "Enter first number: 72\n",
      "Enter second number: 48\n"
     ]
    },
    {
     "name": "stdout",
     "output_type": "stream",
     "text": [
      "GCD is: \n",
      "24\n"
     ]
    }
   ],
   "source": [
    "def gcd(a,b):\n",
    "    if(b==0):\n",
    "        return a\n",
    "    else:\n",
    "        return gcd(b,a%b)\n",
    "a=int(input(\"Enter first number:\"))\n",
    "b=int(input(\"Enter second number:\"))\n",
    "GCD=gcd(a,b)\n",
    "print(\"GCD is: \")\n",
    "print(GCD)"
   ]
  },
  {
   "cell_type": "markdown",
   "id": "a929620c-b70d-40d1-bb74-70f8ec19c0ef",
   "metadata": {},
   "source": [
    "1. Take two numbers from the user.\n",
    "\n",
    "2. Pass the two numbers as arguments to a recursive function.\n",
    "\n",
    "3. When the second number becomes 0, return the first number.\n",
    "\n",
    "4. Else recursively call the function with the arguments as the second number and the remainder when the first number is divided by the second number.\n",
    "\n",
    "5. Return the first number which is the GCD of the two numbers.\n",
    "\n",
    "6. Print the GCD.\n",
    "\n",
    "7. Exit."
   ]
  },
  {
   "cell_type": "raw",
   "id": "1b3935ca-1ada-4528-80f3-d0998a6cd544",
   "metadata": {},
   "source": [
    "#Q7 Write a recursive Python function to reverse a string."
   ]
  },
  {
   "cell_type": "code",
   "execution_count": 8,
   "id": "166b4005-e0d2-4e6b-94f5-49e1bbce64c4",
   "metadata": {},
   "outputs": [
    {
     "name": "stdin",
     "output_type": "stream",
     "text": [
      "Enter the string to be reversed:  madam\n"
     ]
    },
    {
     "name": "stdout",
     "output_type": "stream",
     "text": [
      "madam\n"
     ]
    }
   ],
   "source": [
    "def reverse(string):\n",
    "    if len(string) == 0:\n",
    "        return string\n",
    "    else:\n",
    "        return reverse(string[1:]) + string[0]\n",
    "a = str(input(\"Enter the string to be reversed: \"))\n",
    "print(reverse(a))"
   ]
  },
  {
   "cell_type": "markdown",
   "id": "0a64fe6f-4959-4038-acf3-20130de4d46e",
   "metadata": {},
   "source": [
    "1. User must enter a string.\n",
    "\n",
    "2. The string is passed as an argument to a recursive function to reverse the string.\n",
    "\n",
    "3. In the function, the base condition is that if the length of the string is equal to 0, the string is returned.\n",
    "\n",
    "4. If not equal to 0, the reverse function is recursively called to slice the part of the string except the first character and concatenate\n",
    "the first character to the end of the sliced string.\n",
    "\n",
    "5. The reversed string is printed."
   ]
  },
  {
   "cell_type": "raw",
   "id": "955fa02e-7dde-42c7-acac-db482a935588",
   "metadata": {},
   "source": [
    "#Q8 Create a recursive Python function to calculate the power of a number (x^n)."
   ]
  },
  {
   "cell_type": "code",
   "execution_count": 9,
   "id": "6e36aad3-9296-4b56-935a-e3df82348dd0",
   "metadata": {},
   "outputs": [
    {
     "name": "stdin",
     "output_type": "stream",
     "text": [
      "Enter base:  8\n",
      "Enter exponential value:  3\n"
     ]
    },
    {
     "name": "stdout",
     "output_type": "stream",
     "text": [
      "Result: 512\n"
     ]
    }
   ],
   "source": [
    "def power(base,exp):\n",
    "    if(exp==1):\n",
    "        return(base)\n",
    "    if(exp!=1):\n",
    "        return(base*power(base,exp-1))\n",
    "base=int(input(\"Enter base: \"))\n",
    "exp=int(input(\"Enter exponential value: \"))\n",
    "print(\"Result:\",power(base,exp))"
   ]
  },
  {
   "cell_type": "markdown",
   "id": "e56405b5-6017-4939-b145-4aa39bae899f",
   "metadata": {},
   "source": [
    "1. Take the base and exponential value from the user.\n",
    "\n",
    "2. Pass the numbers as arguments to a recursive function to find the power of the number.\n",
    "\n",
    "3. Give the base condition that if the exponential power is equal to 1, return the base number.\n",
    "\n",
    "4. If exponential power isn’t equal to 1, return the base number multiplied with the power function called recursively with the arguments as the base and power minus 1.\n",
    "\n",
    "5. Print the final result.\n",
    "\n",
    "6. Exit."
   ]
  },
  {
   "cell_type": "raw",
   "id": "8d888a78-fe7b-4b50-9c88-92cecc391dff",
   "metadata": {},
   "source": [
    "#Q9 Write a recursive Python function to find all permutations of a given string."
   ]
  },
  {
   "cell_type": "code",
   "execution_count": 11,
   "id": "f854b25d-38a9-4173-832c-757b062ac74e",
   "metadata": {},
   "outputs": [
    {
     "name": "stdin",
     "output_type": "stream",
     "text": [
      "Enter the string to be reversed:  Ram\n"
     ]
    },
    {
     "data": {
      "text/plain": [
       "['Ram', 'Rma', 'aRm', 'amR', 'mRa', 'maR']"
      ]
     },
     "execution_count": 11,
     "metadata": {},
     "output_type": "execute_result"
    }
   ],
   "source": [
    "def perms(s):\n",
    "    if len(s) == 1:\n",
    "        return [s]\n",
    "    result = []\n",
    "    for i,v in enumerate(s):\n",
    "        result += [v+p for p in perms(s[:i]+s[i+1:])]\n",
    "    return result\n",
    "\n",
    "\n",
    "s= str(input(\"Enter the string : \"))\n",
    "perms(s)"
   ]
  },
  {
   "cell_type": "markdown",
   "id": "ec509d65-087e-4e4b-b3d0-b3d683b4b0a9",
   "metadata": {},
   "source": [
    "This function works by recursively breaking down the problem of finding permutations for n characters by calling the perms function on n-1 characters n times.\n",
    "\n",
    "For example, to find all permutations of the string \"abc\", the function would first call itself to find all permutations of the string \"ab\". \n",
    "\n",
    "The function would then return a list of all permutations of \"ab\", such as [\"ab\", \"ba\"]. \n",
    "\n",
    "The function would then append the character \"c\" to each permutation in the list returned by the recursive call, resulting in the following list of all permutations of \"abc\": [\"abc\", \"acb\", \"bac\", \"bca\", \"cab\", \"cba\"]."
   ]
  },
  {
   "cell_type": "raw",
   "id": "70552946-df78-4b7e-9f95-dd869af9c697",
   "metadata": {},
   "source": [
    "#Q10 Write a recursive Python function to check if a string is a palindrome."
   ]
  },
  {
   "cell_type": "code",
   "execution_count": 12,
   "id": "7e93ffbe-29b1-4dba-9257-77e131d37ae5",
   "metadata": {},
   "outputs": [
    {
     "name": "stdin",
     "output_type": "stream",
     "text": [
      "Enter string: madam\n"
     ]
    },
    {
     "name": "stdout",
     "output_type": "stream",
     "text": [
      "String is a palindrome!\n"
     ]
    }
   ],
   "source": [
    "def is_palindrome(s):\n",
    "    if len(s) < 1:\n",
    "        return True\n",
    "    else:\n",
    "        if s[0] == s[-1]:\n",
    "            return is_palindrome(s[1:-1])\n",
    "        else:\n",
    "            return False\n",
    "a=str(input(\"Enter string:\"))\n",
    "if(is_palindrome(a)==True):\n",
    "    print(\"String is a palindrome!\")\n",
    "else:\n",
    "    print(\"String isn't a palindrome!\")"
   ]
  },
  {
   "cell_type": "markdown",
   "id": "285ad870-5a0e-4b1d-83f3-454b06c5f279",
   "metadata": {},
   "source": [
    "1. Take a string from the user.\n",
    "\n",
    "2. Pass the string as an argument to a recursive function.\n",
    "\n",
    "3. In the function, if the length of the string is less than 1, return True.\n",
    "\n",
    "4. If the last letter is equal to the first letter, recursively call the function with the argument as the sliced list with the first character and last character removed else return False.\n",
    "\n",
    "5. Use an if statement if check if the returned value is True of False and print the final result.\n",
    "\n",
    "6. Exit."
   ]
  },
  {
   "cell_type": "raw",
   "id": "965e5222-0b19-47d0-a660-8bd5ab87eba0",
   "metadata": {},
   "source": [
    "#Q11 Create a recursive Python function to generate all possible combinations of a list of elements."
   ]
  },
  {
   "cell_type": "code",
   "execution_count": 14,
   "id": "32c947f4-54f4-44a6-b550-9c83dbb33dbd",
   "metadata": {},
   "outputs": [
    {
     "name": "stdin",
     "output_type": "stream",
     "text": [
      "Enter the size of the list  5\n"
     ]
    },
    {
     "name": "stdout",
     "output_type": "stream",
     "text": [
      "\n",
      "\n"
     ]
    },
    {
     "name": "stdin",
     "output_type": "stream",
     "text": [
      "Enter the list items separated by space  11 22 33 44 55\n"
     ]
    },
    {
     "data": {
      "text/plain": [
       "[[11, 22, 33, 44, 55],\n",
       " [11, 22, 33, 55],\n",
       " [11, 22, 44, 55],\n",
       " [11, 22, 55],\n",
       " [11, 33, 44, 55],\n",
       " [11, 33, 55],\n",
       " [11, 44, 55],\n",
       " [11, 55],\n",
       " [22, 33, 44, 55],\n",
       " [22, 33, 55],\n",
       " [22, 44, 55],\n",
       " [22, 55],\n",
       " [33, 44, 55],\n",
       " [33, 55],\n",
       " [44, 55],\n",
       " [55]]"
      ]
     },
     "execution_count": 14,
     "metadata": {},
     "output_type": "execute_result"
    }
   ],
   "source": [
    "def generate_combinations(list1):\n",
    "    if len(list1) == 0:\n",
    "        return [[]]\n",
    "    else:\n",
    "        combinations = []\n",
    "        for i in range(len(list1)):\n",
    "            subcombinations = generate_combinations(list1[i + 1:])\n",
    "            for subcombination in subcombinations:\n",
    "                combinations.append([list1[i]] + subcombination)\n",
    "        return combinations\n",
    "    \n",
    "n = int(input(\"Enter the size of the list \"))\n",
    "print(\"\\n\")\n",
    "lst=list(int(num) for num in input(\"Enter the list items separated by space \").strip().split())[:n]\n",
    "generate_combinations(lst)"
   ]
  },
  {
   "cell_type": "markdown",
   "id": "18c5b0ca-c349-49d5-8087-995e47883087",
   "metadata": {},
   "source": [
    "This function works by recursively generating all possible combinations of the elements in the list, starting with the last element. \n",
    "\n",
    "For example, if the list is [1, 2, 3], the function would first generate all possible combinations of the elements in [2, 3]. \n",
    "\n",
    "This would be [[2], [3], [2, 3]]. \n",
    "\n",
    "The function would then add the element 1 to each of these combinations to generate the final list of combinations, which would be [[1, 2], [1, 3], [1, 2, 3]]."
   ]
  },
  {
   "cell_type": "code",
   "execution_count": null,
   "id": "b24e913f-652f-4339-8e8b-f2846463eb8f",
   "metadata": {},
   "outputs": [],
   "source": []
  }
 ],
 "metadata": {
  "kernelspec": {
   "display_name": "Python 3 (ipykernel)",
   "language": "python",
   "name": "python3"
  },
  "language_info": {
   "codemirror_mode": {
    "name": "ipython",
    "version": 3
   },
   "file_extension": ".py",
   "mimetype": "text/x-python",
   "name": "python",
   "nbconvert_exporter": "python",
   "pygments_lexer": "ipython3",
   "version": "3.10.8"
  }
 },
 "nbformat": 4,
 "nbformat_minor": 5
}
