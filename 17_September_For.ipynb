{
 "cells": [
  {
   "cell_type": "code",
   "execution_count": 6,
   "id": "c2cea2af-c432-4d51-b33f-bda0291e78bb",
   "metadata": {},
   "outputs": [],
   "source": [
    "#Loop Questions"
   ]
  },
  {
   "cell_type": "code",
   "execution_count": null,
   "id": "4a7fcab0-f577-49bd-b05f-404e36c05644",
   "metadata": {},
   "outputs": [],
   "source": [
    "#Q1.Write a Python program to print numbers from 1 to 10 using a for loop."
   ]
  },
  {
   "cell_type": "code",
   "execution_count": 5,
   "id": "bbcbfeec-206d-4be5-a26c-dac0a2416c0b",
   "metadata": {},
   "outputs": [
    {
     "name": "stdout",
     "output_type": "stream",
     "text": [
      "1\n",
      "2\n",
      "3\n",
      "4\n",
      "5\n",
      "6\n",
      "7\n",
      "8\n",
      "9\n",
      "10\n"
     ]
    }
   ],
   "source": [
    "for i in range (1,11):\n",
    "    print(i)"
   ]
  },
  {
   "cell_type": "markdown",
   "id": "d90edd73-d281-4268-a917-7b41934ff35d",
   "metadata": {},
   "source": [
    "1) The for loop prints the number from 1 to 10 using the range() function here i is a temporary variable that is iterating over numbers from 1 to 10. \n",
    "\n",
    "2) The for loop is used to iterate through the range of numbers from 1 to 10 (inclusive).\n",
    "\n",
    "3)The range() function generates a sequence of numbers, starting from the first argument (1) up to, but not including, the second argument (11), similar to list indexing in range starts from 0 which means range( j )will print sequence till ( j-1) hence the output doesn’t include 11."
   ]
  },
  {
   "cell_type": "code",
   "execution_count": null,
   "id": "297ae66e-681b-4ddc-bb89-f7efc937e3db",
   "metadata": {},
   "outputs": [],
   "source": [
    "#Q2.Explain the difference between a for loop and a while loop in Python."
   ]
  },
  {
   "cell_type": "markdown",
   "id": "7016c47d-bb20-4a78-8728-be664ea49862",
   "metadata": {},
   "source": [
    "#For Loop\n",
    "\n",
    "1)For loop is used to iterate over a sequence of items.\n",
    "\n",
    "2) For loops are designed for iterating over a sequence of items. Eg. list, tuple, etc.\n",
    "\n",
    "3)For loop require a sequence to iterate over.\n",
    " \n",
    "4)  For loop is typically used for iterating over a fixed sequence of items.\n",
    "\n",
    "5) For loop is more efficient than a while loop when iterating over sequences, since the number of iterations is predetermined and the loop can be optimized accordingly.\n",
    "\n",
    "#While Loop\n",
    "\n",
    "1)While loop is used to repeatedly execute a block of statements while a condition is true.\n",
    "\n",
    "2) While loop is used when the number of iterations is not known in advance or when we want to repeat a block of code until a certain condition is met.\n",
    "\n",
    "3) While the loop requires an initial condition that is tested at the beginning of the loop.\n",
    " \n",
    "4)  While loop is used for more complex control flow situations.\n",
    "\n",
    "5) While a loop may be more efficient in certain situations where the condition being tested can be evaluated quickly."
   ]
  },
  {
   "cell_type": "code",
   "execution_count": null,
   "id": "f2dad04b-18bf-4378-af8d-3af130b51fc8",
   "metadata": {},
   "outputs": [],
   "source": [
    "#Q3.Write a Python program to calculate the sum of all numbers from 1 to 100 using a for loop."
   ]
  },
  {
   "cell_type": "code",
   "execution_count": 7,
   "id": "832985ec-0560-4469-aeda-9053568a5487",
   "metadata": {},
   "outputs": [
    {
     "name": "stdout",
     "output_type": "stream",
     "text": [
      "The sum of 100 natural numbers is : 5050\n"
     ]
    }
   ],
   "source": [
    "count=0\n",
    "for i in range(1,101):\n",
    "    count=count+i\n",
    "print(\"The sum of 100 natural numbers is :\",count)\n",
    "    \n",
    "    "
   ]
  },
  {
   "cell_type": "markdown",
   "id": "fe8d2bb3-c87d-49d0-b967-8c1f66d1f533",
   "metadata": {},
   "source": [
    "1)Take a variable count and intialize its value as 0.\n",
    "\n",
    "2) Take a for loop with a range of 1 to 101 because we have to get sum 100 natural number.\n",
    "\n",
    "3) Now in the loop write the statement count is equal to the sum count and i.\n",
    " \n",
    "4)  After the for loop ends print the value of 100 natural number ."
   ]
  },
  {
   "cell_type": "code",
   "execution_count": null,
   "id": "babb6eb6-0880-43d3-bef4-fdc3b3cd17f2",
   "metadata": {},
   "outputs": [],
   "source": [
    "#Q4.How do you iterate through a list using a for loop in Python?"
   ]
  },
  {
   "cell_type": "code",
   "execution_count": null,
   "id": "0a923294-0eaf-4e7f-a7d5-dc3dbb0242ed",
   "metadata": {},
   "outputs": [],
   "source": [
    "lst = [1, 3, 5, 7, 9]\n",
    "  \n",
    "\n",
    "for i in lst:\n",
    "    print(i)"
   ]
  },
  {
   "cell_type": "markdown",
   "id": "fa7ba5b6-05db-45ad-b7e9-db465ebcce52",
   "metadata": {},
   "source": [
    "1)Take a variable lst and intialize it as a list .\n",
    "\n",
    "2) Take a for loop with a range of i in lst.\n",
    "\n",
    "3) Now in the loop write the statement to print i.\n",
    " \n",
    "4)  After the for loop ends by then all the elements should be printed ."
   ]
  },
  {
   "cell_type": "code",
   "execution_count": null,
   "id": "e14fc604-6b75-4e66-bf70-a98fbcb06e08",
   "metadata": {},
   "outputs": [],
   "source": [
    "#Q5. Write a Python program to find the product of all elements in a list using a for loop."
   ]
  },
  {
   "cell_type": "code",
   "execution_count": 9,
   "id": "d3080682-f095-4a50-a18a-14cba4ebae4e",
   "metadata": {},
   "outputs": [
    {
     "name": "stdout",
     "output_type": "stream",
     "text": [
      "Thre product of the element present in list :  103680\n"
     ]
    }
   ],
   "source": [
    "lst=[2,4,6,8,10,3,9]\n",
    "count=1\n",
    "for i in lst:\n",
    "    count=count*i\n",
    "print(\"Thre product of the element present in list : \",count)\n",
    "    "
   ]
  },
  {
   "cell_type": "markdown",
   "id": "c7a1e506-67e7-4ecf-97c8-d3745b52ce37",
   "metadata": {},
   "source": [
    "1)Take a variable count and intialize its value as 1.\n",
    "\n",
    "2) Take a for loop with a range of i in lst.\n",
    "\n",
    "3) Now in the loop write the statement count is equal to the product of count and i.\n",
    " \n",
    "4)  After the for loop ends print the product of the list elments ."
   ]
  },
  {
   "cell_type": "code",
   "execution_count": null,
   "id": "dbd70ec4-da6e-4fab-96cd-65750a7c3d50",
   "metadata": {},
   "outputs": [],
   "source": [
    "#Q6.Create a Python program that prints all even numbers from 1 to 20 using a for loop."
   ]
  },
  {
   "cell_type": "code",
   "execution_count": 7,
   "id": "435ba573-5b58-4706-b760-54b4176e86a7",
   "metadata": {},
   "outputs": [
    {
     "name": "stdout",
     "output_type": "stream",
     "text": [
      "2\n",
      "4\n",
      "6\n",
      "8\n",
      "10\n",
      "12\n",
      "14\n",
      "16\n",
      "18\n",
      "20\n"
     ]
    }
   ],
   "source": [
    "for i in range (1,21):\n",
    "    if i%2==0:\n",
    "        print(i)\n",
    "    "
   ]
  },
  {
   "cell_type": "markdown",
   "id": "b572cf7e-9aa0-41ad-a099-057053b2a7e8",
   "metadata": {},
   "source": [
    "1) Take a for loop with a range of 1 to 21 because we have to print all even number till 20.\n",
    "\n",
    "2) Now in the loop write the if statement pass a condition i%2==0.\n",
    " \n",
    "3)  After the for loop ends all the even numbers till 20 should be printed ."
   ]
  },
  {
   "cell_type": "code",
   "execution_count": null,
   "id": "2576c6b6-95f5-4f61-bc57-4ca9b572388b",
   "metadata": {},
   "outputs": [],
   "source": [
    "#Q7.Write a Python program that calculates the factorial of a number using a for loop."
   ]
  },
  {
   "cell_type": "code",
   "execution_count": 10,
   "id": "a1568b6d-d5b3-4815-aa26-1e601a2c0b89",
   "metadata": {},
   "outputs": [
    {
     "name": "stdin",
     "output_type": "stream",
     "text": [
      "Enter n: 5\n"
     ]
    },
    {
     "name": "stdout",
     "output_type": "stream",
     "text": [
      "Factorial of 5 is:120\n"
     ]
    }
   ],
   "source": [
    "n = int(input(\"Enter n:\"))\n",
    "fact = 1\n",
    "for i in range(2, n+1):\n",
    "    fact *= i\n",
    "print(\"Factorial of {} is:{}\".format(n, fact))"
   ]
  },
  {
   "cell_type": "markdown",
   "id": "5b366fac-607f-4351-b608-9b26c02f1255",
   "metadata": {},
   "source": [
    "1)This program first takes an input from the user, which is the number whose factorial needs to be calculated.\n",
    "\n",
    "2)  Then, it initializes a variable fact to 1.\n",
    "\n",
    "3)  This variable will store the factorial of the number.\n",
    " \n",
    "4) Next, the program uses a for loop to iterate from 2 to the number entered by the user.\n",
    "\n",
    "5) In each iteration, the value of fact is multiplied by the current value of i.\n",
    "\n",
    "6).Finally, the program prints the factorial of the number to the console."
   ]
  },
  {
   "cell_type": "code",
   "execution_count": 11,
   "id": "86d69bf4-dcd3-4a8c-aa70-67f6c12c1732",
   "metadata": {},
   "outputs": [],
   "source": [
    "#Q8.How can you iterate through the characters of a string using a for loop in Python?"
   ]
  },
  {
   "cell_type": "code",
   "execution_count": 13,
   "id": "82ed3ea4-41fd-40c4-a822-077b41f23a64",
   "metadata": {},
   "outputs": [
    {
     "name": "stdin",
     "output_type": "stream",
     "text": [
      "Enter the string :  My Name is Khan\n"
     ]
    },
    {
     "name": "stdout",
     "output_type": "stream",
     "text": [
      "M\n",
      "y\n",
      " \n",
      "N\n",
      "a\n",
      "m\n",
      "e\n",
      " \n",
      "i\n",
      "s\n",
      " \n",
      "K\n",
      "h\n",
      "a\n",
      "n\n"
     ]
    }
   ],
   "source": [
    "str1 = str(input(\"Enter the string : \"))\n",
    "for item in str1:\n",
    "    print(item)"
   ]
  },
  {
   "cell_type": "markdown",
   "id": "c573ac0a-151f-4da2-a6c7-b2fbc96c4688",
   "metadata": {},
   "source": [
    "1)This program first takes an input from the user, which is the string.\n",
    "\n",
    "2)  You can also use the for item in str: syntax to iterate over the characters of a string.\n",
    "\n",
    "3) In this syntax, the variable item will take each character of the string one at a time."
   ]
  },
  {
   "cell_type": "code",
   "execution_count": null,
   "id": "a00c04a0-438f-46de-a48d-6506670bf19a",
   "metadata": {},
   "outputs": [],
   "source": [
    "#Q9.Write a Python program to find the largest number in a list using a for loop."
   ]
  },
  {
   "cell_type": "code",
   "execution_count": 15,
   "id": "1d2e092f-7ab9-49ba-9e9f-df6fbd1f67a0",
   "metadata": {},
   "outputs": [
    {
     "name": "stdout",
     "output_type": "stream",
     "text": [
      "99\n"
     ]
    }
   ],
   "source": [
    "lst = [20, 49, 1, 99]\n",
    "largest = lst[0]\n",
    "for i in lst:\n",
    "    if i>largest:\n",
    "        largest = i\n",
    "print(largest)"
   ]
  },
  {
   "cell_type": "markdown",
   "id": "30cd90c2-3978-40b7-99d1-cd414b228b24",
   "metadata": {},
   "source": [
    "1)We will use a for-in loop and a variable that stores the largest element to solve this.\n",
    "\n",
    "2)  Initialize a list lst with [20, 49, 1, 99].\n",
    "\n",
    "3) Initialize the largest variable with the first element in the list.\n",
    " \n",
    "4) Use the for-in loop to traverse every element in the list, and check if the current element i is greater than the value present in the largest variable.\n",
    "\n",
    "5) If it is, then assign the value in i to the variable largest.\n",
    "\n",
    "6)After the loop ends, largest will store the largest element in the list."
   ]
  },
  {
   "cell_type": "code",
   "execution_count": null,
   "id": "e7ab0235-6f97-49a0-83b9-702750ff3f8d",
   "metadata": {},
   "outputs": [],
   "source": [
    "#Q10.Create a Python program that prints the Fibonacci sequence up to a specified limit using a for loop."
   ]
  },
  {
   "cell_type": "code",
   "execution_count": 16,
   "id": "e79d7f9e-2fd0-495b-aa7d-58478194696c",
   "metadata": {},
   "outputs": [
    {
     "name": "stdin",
     "output_type": "stream",
     "text": [
      "Enter the number of terms:  7\n"
     ]
    },
    {
     "name": "stdout",
     "output_type": "stream",
     "text": [
      "0 1 1 2 3 5 8 "
     ]
    }
   ],
   "source": [
    "n=int(input(\"Enter the number of terms: \"))\n",
    "a=0\n",
    "b=1\n",
    "if n<=0:\n",
    "    print(\"The Output of your input is\",a)\n",
    "else:\n",
    "    print(a,b,end=\" \")\n",
    "    for x in range(2,n):\n",
    "        c=a+b\n",
    "        print(c,end=\" \")\n",
    "        a=b\n",
    "        b=c"
   ]
  },
  {
   "cell_type": "markdown",
   "id": "5c076ba3-eea2-41e5-89be-79a1af76a5d0",
   "metadata": {},
   "source": [
    "1)First create a variable to take input from user and after that ,Create 2 variables and initialize them with 0 and 1 (first = 0, second = 1)\n",
    "\n",
    "2) Create another variable to keep track of the length of the Fibonacci sequence to be printed (length)\n",
    "\n",
    "3) Loop (length is less than series length)\n",
    " \n",
    "4) Print first + second largest variable.\n",
    "\n",
    "5) Update first and second variable (first will point to the second, and the second will point to first + second)\n",
    "\n",
    "6) Decrement the length variable and repeat from step 3\n",
    "\n",
    "7). Once the loop terminates, terminate the program"
   ]
  },
  {
   "cell_type": "code",
   "execution_count": null,
   "id": "fc346e20-6fee-4e01-93e6-d403cdcd4ebc",
   "metadata": {},
   "outputs": [],
   "source": [
    "#Q 11 Write a Python program to count the number of vowels in a given string using a for loop."
   ]
  },
  {
   "cell_type": "code",
   "execution_count": 2,
   "id": "5aaee36f-128c-4839-bc16-99341f381971",
   "metadata": {},
   "outputs": [
    {
     "name": "stdin",
     "output_type": "stream",
     "text": [
      "Enter your String :  Czechoslovakia\n"
     ]
    },
    {
     "name": "stdout",
     "output_type": "stream",
     "text": [
      "6\n"
     ]
    }
   ],
   "source": [
    "vowel=\"AEIOUaeiou\"\n",
    "count=0\n",
    "str1=str(input(\"Enter your String : \"))\n",
    "for i in str1:\n",
    "    if i in vowel:\n",
    "        count=count+1\n",
    "print(count)"
   ]
  },
  {
   "cell_type": "markdown",
   "id": "564fce20-79e0-441a-9a64-5f3477d7177f",
   "metadata": {},
   "source": [
    "1). Create a variable vowel and store all  the vowels as a string in that variable.\n",
    "\n",
    "2). Create a variable to take user input and another count variable with value 0.\n",
    "\n",
    "3). Take a for loop with condition i in str1.\n",
    "\n",
    "4). Now take a conditional statement and put condition if i in vowel so count will increase by 1.\n",
    "\n",
    "$). At the end of loop print the value of count."
   ]
  },
  {
   "cell_type": "code",
   "execution_count": null,
   "id": "02ff48e8-a458-4461-95fe-4f13172c0581",
   "metadata": {},
   "outputs": [],
   "source": [
    "#Q 12. Create a Python program that generates a multiplication table for a given number using a for loop."
   ]
  },
  {
   "cell_type": "code",
   "execution_count": 3,
   "id": "55adb756-9bbc-48a4-8b33-e2b991fb25ce",
   "metadata": {},
   "outputs": [
    {
     "name": "stdin",
     "output_type": "stream",
     "text": [
      "Enter the number : 12\n"
     ]
    },
    {
     "name": "stdout",
     "output_type": "stream",
     "text": [
      "12 * 1 = 12\n",
      "12 * 2 = 24\n",
      "12 * 3 = 36\n",
      "12 * 4 = 48\n",
      "12 * 5 = 60\n",
      "12 * 6 = 72\n",
      "12 * 7 = 84\n",
      "12 * 8 = 96\n",
      "12 * 9 = 108\n",
      "12 * 10 = 120\n"
     ]
    }
   ],
   "source": [
    "a=int(input(\"Enter the number :\"))\n",
    "for i in range(1,11):\n",
    "    print(a,\"*\",i,\"=\",a*i)"
   ]
  },
  {
   "cell_type": "markdown",
   "id": "ce5cf627-abe6-419d-9680-e7c6d4121235",
   "metadata": {},
   "source": [
    "1). Create a variable to take input from user.\n",
    "\n",
    "2). Take a loop with range 1 to 11.\n",
    "\n",
    "3). Now print a*i=a*i till loop gets over."
   ]
  },
  {
   "cell_type": "code",
   "execution_count": null,
   "id": "1082f4f2-c9cf-4bba-8453-c62257ee96f2",
   "metadata": {},
   "outputs": [],
   "source": [
    "#Q13. Write a Python program to reverse a list using a for loop."
   ]
  },
  {
   "cell_type": "code",
   "execution_count": 1,
   "id": "26647081-ca4f-45d6-9fe7-93c988b6e8aa",
   "metadata": {},
   "outputs": [
    {
     "name": "stdout",
     "output_type": "stream",
     "text": [
      "[5, 4, 3, 2, 1]\n"
     ]
    }
   ],
   "source": [
    "def reverse_list(list1):\n",
    "  reversed_list = []\n",
    "  for i in range(len(list1) - 1, -1, -1):\n",
    "    reversed_list.append(list1[i])\n",
    "  return reversed_list\n",
    "\n",
    "list1 = [1, 2, 3, 4, 5]\n",
    "reversed_list = reverse_list(list1)\n",
    "print(reversed_list)"
   ]
  },
  {
   "cell_type": "markdown",
   "id": "de6a07bd-062f-44eb-ae33-329949f2a584",
   "metadata": {},
   "source": [
    "1)This program first creates an empty list called reversed_list. \n",
    "\n",
    "2) Then, it iterates through the original list list1 in reverse order, using a for loop with a range of len(list1) - 1, -1, -1.\n",
    "\n",
    "3) This range starts at len(list1) - 1 and decrements by 1 until it reaches -1. The -1 step size tells the loop to iterate in reverse order.\n",
    " \n",
    "4) In each iteration, the program appends the current element of list1 to reversed_list\n",
    "\n",
    "5) After the loop is finished, reversed_list will contain the reversed elements of list1.\n",
    "\n",
    "6) Finally, the program prints reversed_list. The output of this program is ``."
   ]
  },
  {
   "cell_type": "code",
   "execution_count": null,
   "id": "d91c12a9-aec3-47dd-9804-afe211d5e8cd",
   "metadata": {},
   "outputs": [],
   "source": [
    "#Q14. Write a Python program to find the common elements between two lists using a for loop."
   ]
  },
  {
   "cell_type": "code",
   "execution_count": 5,
   "id": "532e454b-219a-4c20-850d-1a28225b2b82",
   "metadata": {},
   "outputs": [
    {
     "name": "stdout",
     "output_type": "stream",
     "text": [
      "6\n",
      "12\n"
     ]
    }
   ],
   "source": [
    "lst=[2,4,6,8,10,12]\n",
    "lst2=[3,6,9,12,15,18]\n",
    "for i in lst:\n",
    "    for j in lst2:\n",
    "        if j==i:\n",
    "            print(j)"
   ]
  },
  {
   "cell_type": "markdown",
   "id": "d5fdb444-39d2-4449-8a35-15e56438a993",
   "metadata": {},
   "source": [
    "1). Take two list and intialize the value of them.\n",
    "\n",
    "2). Take two for loop for accesing all the element of list 1 & 2.\n",
    "\n",
    "3). Now take a conditional statement that if any elements of both list gets equal then print that element.\n",
    "\n",
    "4). By the end of loop all element which comman should be printed. \n",
    "        "
   ]
  },
  {
   "cell_type": "code",
   "execution_count": null,
   "id": "0556d2b7-9274-4526-bcae-b5ab54474fcb",
   "metadata": {},
   "outputs": [],
   "source": [
    "#Q 15.Explain how to use a for loop to iterate through the keys and values of a dictionary in Python."
   ]
  },
  {
   "cell_type": "code",
   "execution_count": 3,
   "id": "f68a12c1-a85b-4af9-bf5b-e3d2fe02f5bb",
   "metadata": {},
   "outputs": [
    {
     "name": "stdout",
     "output_type": "stream",
     "text": [
      "1\n",
      "2\n",
      "3\n",
      "a\n",
      "b\n",
      "c\n"
     ]
    }
   ],
   "source": [
    "my_dict = {1: 'a', 2: 'b', 3: 'c'}\n",
    "for key in my_dict.keys():\n",
    "    print(key)\n",
    "for value in my_dict.values():\n",
    "    print(value)"
   ]
  },
  {
   "cell_type": "markdown",
   "id": "8ecea2ba-88ef-45f6-8982-f5f73fbe0a19",
   "metadata": {},
   "source": [
    "1). Using the keys() method: This method returns a view of the keys in the dictionary. You can then iterate over this view using a for loop.\n",
    "\n",
    "2). This will print the keys 1, 2, and 3 in order.\n",
    "\n",
    "3). Using the values() method: This method returns a view of the values in the dictionary. You can then iterate over this view using a for loop.\n",
    "\n",
    "4). This will print the values a, b, and c in order."
   ]
  },
  {
   "cell_type": "code",
   "execution_count": null,
   "id": "e48d0af9-f1df-43ce-b4c5-e0b46d07494e",
   "metadata": {},
   "outputs": [],
   "source": [
    "#Q16. Write a Python program to find the GCD (Greatest Common Divisor) of two numbers using a for loop."
   ]
  },
  {
   "cell_type": "code",
   "execution_count": 1,
   "id": "1dbc7b93-45bd-4d19-9d47-a1ebac960040",
   "metadata": {},
   "outputs": [
    {
     "name": "stdin",
     "output_type": "stream",
     "text": [
      "Enter the first number  :  24\n",
      "Enter the second number  :  32\n"
     ]
    },
    {
     "name": "stdout",
     "output_type": "stream",
     "text": [
      "GCD of 24 and 32 is: 8\n"
     ]
    }
   ],
   "source": [
    "x = int(input(\"Enter the first number  : \")) \n",
    "y = int(input(\"Enter the second number  : \")) \n",
    "if x > y:\n",
    "    x, y = y, x\n",
    "for i in range(1,x+1):\n",
    "    if x%i == 0 and y%i == 0:\n",
    "        gcd = i\n",
    "\n",
    "print(\"GCD of\", x, \"and\", y, \"is:\", gcd)"
   ]
  },
  {
   "cell_type": "markdown",
   "id": "3130fe7d-1a60-4c75-93a5-45376742b5cb",
   "metadata": {},
   "source": [
    "1). Take input from user and store into  variables.\n",
    "\n",
    "2). Take an if statement to check which largest , put largest as x and smallest as y.\n",
    "\n",
    "3). Take a loop with range 1 to largest number +1'\n",
    "\n",
    "4). Now check if x and y is fully divisible by i and in the last the greatest common divison should be stored in the variable gcd.\n",
    "\n",
    "5). At last print the gcd and the program ends."
   ]
  },
  {
   "cell_type": "code",
   "execution_count": null,
   "id": "c8b8415c-ff80-4fbf-984e-5ff408c0935e",
   "metadata": {},
   "outputs": [],
   "source": [
    "#Q17. Create a Python program that checks if a string is a palindrome using a for loop."
   ]
  },
  {
   "cell_type": "code",
   "execution_count": 2,
   "id": "146a2b46-534a-42b4-a870-bf055c302624",
   "metadata": {},
   "outputs": [
    {
     "name": "stdin",
     "output_type": "stream",
     "text": [
      "Enter your string to check Palindrome : Repaper\n"
     ]
    },
    {
     "name": "stdout",
     "output_type": "stream",
     "text": [
      "!!!!!Palindrome!!!!!\n"
     ]
    }
   ],
   "source": [
    "def check_palindrome(str1,n):\n",
    "    if str1==str2:\n",
    "        print(\"!!!!!Palindrome!!!!!\")\n",
    "    else:\n",
    "        print(\"!!!!!Not a Palindrome!!!!!\")\n",
    "def reverse_string(str1,n):\n",
    "    lst=[]\n",
    "    for i in range (n-1,-1,-1):\n",
    "        lst.append(str1[i])\n",
    "    r=(''.join(lst))\n",
    "    return r\n",
    "\n",
    "\n",
    "str1=input(\"Enter your string to check Palindrome :\")\n",
    "str1=str1.lower()\n",
    "n=len(str1)\n",
    "str2=reverse_string(str1,n)\n",
    "check_palindrome(str1,str2)"
   ]
  },
  {
   "cell_type": "markdown",
   "id": "45c69791-a023-49d5-82c3-72fcc3efd4fb",
   "metadata": {},
   "source": [
    "1). Create variable to take input from the user.\n",
    "\n",
    "2). Firstly convert the sting into lower case and after that reverse the string and store it .\n",
    "\n",
    "3). Now create a variable to store the length of str1.Create another variable str2 and pass the function revrse string with str1 & n.\n",
    "\n",
    "4). In function create an empty list and take loop to print revrse string , store the reverse string in list.\n",
    "\n",
    "5). Now take another variable r and store the list in string form by using join function.\n",
    "\n",
    "6). Return the variable r  and store in str2 . Now call the next function check_palindrome with str1 & str2 .\n",
    "\n",
    "7). Now with conditional statement check str1==str2 if true the palindrome else not palindrome."
   ]
  },
  {
   "cell_type": "code",
   "execution_count": null,
   "id": "24eda30e-f432-4aaf-a2b3-0b4b2fdb0160",
   "metadata": {},
   "outputs": [],
   "source": [
    "#Q18. Write a Python program to remove duplicates from a list using a for loop."
   ]
  },
  {
   "cell_type": "code",
   "execution_count": 3,
   "id": "bbecc648-94df-4191-85e9-966765cd249e",
   "metadata": {},
   "outputs": [
    {
     "name": "stdout",
     "output_type": "stream",
     "text": [
      "[11, 22, 33, 44, 55, 66, 77, 99]\n"
     ]
    }
   ],
   "source": [
    "lst=[11,22,33,44,44,55,44,66,77,33,99]\n",
    "final_list = []\n",
    "for num in lst:\n",
    "    if num not in final_list:\n",
    "            final_list.append(num)\n",
    "print(final_list)"
   ]
  },
  {
   "cell_type": "markdown",
   "id": "04be214a-b920-4d00-833b-f102267f069e",
   "metadata": {},
   "source": [
    "1). Take a lst variable and intialize the value and take a empty list final_list.\n",
    "\n",
    "2). Take for loop to access the elements of lst and check if its not in the final_list then append it in the list.\n",
    "\n",
    "3). And at the end of the loop print final_ list ."
   ]
  },
  {
   "cell_type": "code",
   "execution_count": null,
   "id": "77611fe7-ca38-454b-b02f-2f8f2fb450e7",
   "metadata": {},
   "outputs": [],
   "source": [
    "#Q19. Create a Python program that counts the number of words in a sentence using a for loop"
   ]
  },
  {
   "cell_type": "code",
   "execution_count": 3,
   "id": "6ef3c782-8b01-42eb-9e1e-dc62c2e9212e",
   "metadata": {},
   "outputs": [
    {
     "name": "stdin",
     "output_type": "stream",
     "text": [
      "Enter string: Python Program to calculate the number of words and characters present in a string.\n"
     ]
    },
    {
     "name": "stdout",
     "output_type": "stream",
     "text": [
      "Number of words in the string:\n",
      "14\n",
      "Number of characters in the string:\n",
      "83\n"
     ]
    }
   ],
   "source": [
    "string=input(\"Enter string:\")\n",
    "char=0\n",
    "word=1\n",
    "for i in string:\n",
    "    char=char+1\n",
    "    if(i==' '):\n",
    "        word=word+1\n",
    "print(\"Number of words in the string:\")\n",
    "print(word)\n",
    "print(\"Number of characters in the string:\")\n",
    "print(char)"
   ]
  },
  {
   "cell_type": "markdown",
   "id": "679059bc-5035-4cb3-acdc-69df16df098a",
   "metadata": {},
   "source": [
    "1)Take a string from the user and store it in a variable.\n",
    "\n",
    "2)  Initialize the character count variable to 0 and the word count variable to 1.\n",
    "\n",
    "3) Use a for loop to traverse through the characters in the string and increment the character count variable each time.\n",
    " \n",
    "4) Increment the word count variable only if a space is encountered.\n",
    "\n",
    "5) Print the total count of the characters and words in the string.\n",
    "\n",
    "6) Exit"
   ]
  },
  {
   "cell_type": "code",
   "execution_count": null,
   "id": "a17408fc-6307-409b-b2ea-3c4651541803",
   "metadata": {},
   "outputs": [],
   "source": [
    "#Q 20. Write a Python program to find the sum of all odd numbers from 1 to 50 using a for loop."
   ]
  },
  {
   "cell_type": "code",
   "execution_count": null,
   "id": "9a03a0b7-d512-4b93-a36b-147a12aa9d61",
   "metadata": {},
   "outputs": [],
   "source": [
    "count=0\n",
    "for i in range(1,50):\n",
    "    if i%2==1:\n",
    "        count=count+i\n",
    "print(count)"
   ]
  },
  {
   "cell_type": "markdown",
   "id": "93928441-e8b5-43d9-9fed-da5f8da51230",
   "metadata": {},
   "source": [
    "1) Take a for loop with a range of 1 to 51 because we have to print sum of all odd number till 50 and 50 is even so .\n",
    "\n",
    "2) Now in the loop write the if statement pass a condition i%2==0.\n",
    " \n",
    "3)  After the for loop ends all the even numbers till 50 should be printed ."
   ]
  },
  {
   "cell_type": "code",
   "execution_count": null,
   "id": "881743e7-7471-4617-ba52-266918f38f78",
   "metadata": {},
   "outputs": [],
   "source": [
    "#Q21 Write a Python program that checks if a given year is a leap year using a for loop."
   ]
  },
  {
   "cell_type": "code",
   "execution_count": 5,
   "id": "224b3184-1bfa-4c1c-a1b2-8debf247fe59",
   "metadata": {},
   "outputs": [
    {
     "name": "stdin",
     "output_type": "stream",
     "text": [
      "Enter the start year:  2020\n",
      "Enter the end year:  2033\n"
     ]
    },
    {
     "name": "stdout",
     "output_type": "stream",
     "text": [
      "2020 is a leap year.\n",
      "2021 is not a leap year.\n",
      "2022 is not a leap year.\n",
      "2023 is not a leap year.\n",
      "2024 is a leap year.\n",
      "2025 is not a leap year.\n",
      "2026 is not a leap year.\n",
      "2027 is not a leap year.\n",
      "2028 is a leap year.\n",
      "2029 is not a leap year.\n",
      "2030 is not a leap year.\n",
      "2031 is not a leap year.\n",
      "2032 is a leap year.\n",
      "2033 is not a leap year.\n"
     ]
    }
   ],
   "source": [
    "def is_leap_year(year):\n",
    "  if year % 4 == 0:\n",
    "    if year % 100 == 0:\n",
    "      if year % 400 == 0:\n",
    "        return True\n",
    "      else:\n",
    "        return False\n",
    "    else:\n",
    "      return True\n",
    "  else:\n",
    "    return False\n",
    "\n",
    "start_year = int(input(\"Enter the start year: \"))\n",
    "end_year = int(input(\"Enter the end year: \"))\n",
    "\n",
    "for year in range(start_year, end_year + 1):\n",
    "  if is_leap_year(year):\n",
    "    print(year, \"is a leap year.\")\n",
    "  else:\n",
    "    print(year, \"is not a leap year.\")"
   ]
  },
  {
   "cell_type": "markdown",
   "id": "013473b2-896d-4a6c-9f66-005db4acfc04",
   "metadata": {},
   "source": [
    "1)This code first defines a function called is_leap_year() which takes a year as input and returns True if the year is a leap year, False otherwise.\n",
    "\n",
    "2)  The function checks if the year is divisible by 4. If it is, then it checks if the year is divisible by 100. If it is, then it checks if the year is divisible by 400.\n",
    "\n",
    "3) If it is, then the year is a leap year. Otherwise, the year is not a leap year.\n",
    " \n",
    "4) The main() function then prompts the user to enter the start and end years of the range they want to check. It then uses a for loop with the range() function to iterate over each year in the specified range. \n",
    "\n",
    "5)  For each year, it calls the is_leap_year() function and prints the corresponding message indicating if it is a leap year or not."
   ]
  },
  {
   "cell_type": "code",
   "execution_count": null,
   "id": "f582adf2-d418-4977-9f93-455925c05665",
   "metadata": {},
   "outputs": [],
   "source": [
    "#Q 22.Create a Python program that calculates the square root of a number using a for loop."
   ]
  },
  {
   "cell_type": "code",
   "execution_count": 1,
   "id": "c61d8997-0159-4281-8719-180e0a66d52e",
   "metadata": {},
   "outputs": [
    {
     "name": "stdin",
     "output_type": "stream",
     "text": [
      " 25\n"
     ]
    },
    {
     "name": "stdout",
     "output_type": "stream",
     "text": [
      "This number is a perfect square of  5\n"
     ]
    }
   ],
   "source": [
    "def squareroot(n):\n",
    "    if n%2==0:\n",
    "        m=(n/2)+1\n",
    "        m=int(m)\n",
    "    else:\n",
    "        m=(n+1)/2\n",
    "        m=int(m)\n",
    "    for i in range (m):\n",
    "        if i*i==n:\n",
    "            return i\n",
    "\n",
    "\n",
    "\n",
    "\n",
    "\n",
    "n=int(input())\n",
    "if n<=0:\n",
    "    print(n)\n",
    "else:\n",
    "    p=squareroot(n)\n",
    "    if p==None:\n",
    "        print(\"The number is not a perfect square\")\n",
    "    else:\n",
    "        print(\"This number is a perfect square of \",p)"
   ]
  },
  {
   "cell_type": "markdown",
   "id": "8def9772-0218-4ff8-a796-e4b5d592c8e7",
   "metadata": {},
   "source": [
    "1). Take input from user and store it in a variable.Also check if n is greater than 0 if yes then call the function.\n",
    "\n",
    "2). In the function firstly do half of the number and store it in a variable m.\n",
    "\n",
    "3). Now take a for loop and check the square root and if i*i==n then return i else return none\n",
    "\n",
    "4). Now check p in which return the function return value if its none then not a perfecct square else perfect square."
   ]
  },
  {
   "cell_type": "code",
   "execution_count": null,
   "id": "1e6aae9e-f001-42ef-a765-c85e19bdf7ac",
   "metadata": {},
   "outputs": [],
   "source": [
    "#Q.23 Write a Python program to find the LCM (Least Common Multiple) of two numbers using a for loop."
   ]
  },
  {
   "cell_type": "code",
   "execution_count": null,
   "id": "8708d4c6-26ac-4857-ad39-ea8e6daf9e41",
   "metadata": {},
   "outputs": [],
   "source": [
    "x = int(input(\"Enter the first number : \"))\n",
    "y = int(input(\"Enter the second number : \"))\n",
    "if x > y:\n",
    "  x, y = y, x\n",
    "for i in range(1,x+1):\n",
    "  if x%i == 0 and y%i == 0:\n",
    "    gcd = i\n",
    "\n",
    "lcm = (x*y)/gcd\n",
    "\n",
    "print(\"LCM of\", x, \"and\", y, \"is:\", lcm)"
   ]
  },
  {
   "cell_type": "markdown",
   "id": "6fa0c101-e30e-4224-929d-5871dee13663",
   "metadata": {},
   "source": [
    "1)First take 2 variable to take input from the user .\n",
    "\n",
    "2) Take a condition top check the greatest between the two variables if x>y then swap the values.\n",
    "\n",
    "3) Take a for loop with range 1 to x+1.For loop is used to iterate the variable i from 0 to the smaller number. \n",
    " \n",
    "4) If both numbers are divisible by i, then it modifies the GCD and finally gives the GCD of two numbers. GCD of two numbers is then used to calculate LCM of two numbers.\n",
    "\n",
    "5)  Now use the formula lcm = (x*y)/gcd and print the value of LCM.\n",
    "\n",
    "6) Exit\n"
   ]
  },
  {
   "cell_type": "code",
   "execution_count": null,
   "id": "888792f3-b468-47e7-8a65-4a4153b7f6c5",
   "metadata": {},
   "outputs": [],
   "source": []
  },
  {
   "cell_type": "code",
   "execution_count": null,
   "id": "3ce37422-22b8-4463-86cb-8aa00b9f4d5e",
   "metadata": {},
   "outputs": [],
   "source": []
  },
  {
   "cell_type": "code",
   "execution_count": null,
   "id": "33f5e9fb-2bb0-4b90-bb93-b4207de2f647",
   "metadata": {},
   "outputs": [],
   "source": []
  },
  {
   "cell_type": "code",
   "execution_count": null,
   "id": "9d79a240-147b-4889-896f-286b918891b7",
   "metadata": {},
   "outputs": [],
   "source": []
  },
  {
   "cell_type": "code",
   "execution_count": null,
   "id": "a0aec7e0-9aac-4320-a97a-d21b6cca12ea",
   "metadata": {},
   "outputs": [],
   "source": []
  },
  {
   "cell_type": "code",
   "execution_count": null,
   "id": "3672a9eb-1613-47ce-82e0-15a02227c5c7",
   "metadata": {},
   "outputs": [],
   "source": []
  },
  {
   "cell_type": "code",
   "execution_count": null,
   "id": "cac59dd3-3784-4fd7-b9af-83aa3f663153",
   "metadata": {},
   "outputs": [],
   "source": []
  },
  {
   "cell_type": "code",
   "execution_count": null,
   "id": "da7084e8-d652-4a0a-9075-d9ec5c274916",
   "metadata": {},
   "outputs": [],
   "source": []
  }
 ],
 "metadata": {
  "kernelspec": {
   "display_name": "Python 3 (ipykernel)",
   "language": "python",
   "name": "python3"
  },
  "language_info": {
   "codemirror_mode": {
    "name": "ipython",
    "version": 3
   },
   "file_extension": ".py",
   "mimetype": "text/x-python",
   "name": "python",
   "nbconvert_exporter": "python",
   "pygments_lexer": "ipython3",
   "version": "3.10.8"
  }
 },
 "nbformat": 4,
 "nbformat_minor": 5
}
