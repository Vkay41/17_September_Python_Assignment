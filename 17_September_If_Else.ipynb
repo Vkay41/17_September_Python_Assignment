{
 "cells": [
  {
   "cell_type": "code",
   "execution_count": 1,
   "id": "b1b6e949-c42f-4cf8-98cc-e5739c4be72a",
   "metadata": {},
   "outputs": [],
   "source": [
    "#If else :"
   ]
  },
  {
   "cell_type": "code",
   "execution_count": 2,
   "id": "90eb8558-6155-45e5-affd-27e3a52a787e",
   "metadata": {},
   "outputs": [],
   "source": [
    "#Q1 Write a Python program to check if a number is positive, negative, or zero using an if-else statement."
   ]
  },
  {
   "cell_type": "code",
   "execution_count": 4,
   "id": "e0232ead-74e3-435b-877e-45a533013514",
   "metadata": {},
   "outputs": [
    {
     "name": "stdin",
     "output_type": "stream",
     "text": [
      "Enter the number value you want to check : -23\n"
     ]
    },
    {
     "name": "stdout",
     "output_type": "stream",
     "text": [
      "The number is negative ::\n"
     ]
    }
   ],
   "source": [
    "def check_sign(x):\n",
    "    if x<0:\n",
    "        print(\"The number is negative ::\")\n",
    "    elif x>0:\n",
    "        print(\"The number is positive ::\")\n",
    "    else:\n",
    "        print(\"The number is Zero ::\")\n",
    "        \n",
    "x=int(input(\"Enter the number value you want to check :\"))\n",
    "check_sign(x)"
   ]
  },
  {
   "cell_type": "markdown",
   "id": "63e3ab27-63d7-4766-a407-0b17973a4ba1",
   "metadata": {},
   "source": [
    "Firstly take a input from user and store in a varible \n",
    "\n",
    "Now call the function check_sign with argument x.\n",
    "\n",
    "In function check the sign with the help of conditional element.\n",
    "\n",
    "Now according to the conditional staments print the value positive , negative or zero."
   ]
  },
  {
   "cell_type": "code",
   "execution_count": 5,
   "id": "8bb9fe54-2bbf-4e28-ac2f-7c2bd12b93eb",
   "metadata": {},
   "outputs": [],
   "source": [
    "#Q2.Create a Python program that checks if a given number is even or odd using an if-else statement.\n"
   ]
  },
  {
   "cell_type": "code",
   "execution_count": 6,
   "id": "599e9eee-1805-4ed2-83b6-f12019bde508",
   "metadata": {},
   "outputs": [
    {
     "name": "stdin",
     "output_type": "stream",
     "text": [
      "Enter the number value you want to check : 33\n"
     ]
    },
    {
     "name": "stdout",
     "output_type": "stream",
     "text": [
      "The number is odd ::\n"
     ]
    }
   ],
   "source": [
    "def check_even_odd(x):\n",
    "    if x==0:\n",
    "        print(\"The number is Zero ::\")\n",
    "    elif x%2==0:\n",
    "        print(\"The number is even ::\")\n",
    "    else:\n",
    "        print(\"The number is odd ::\")\n",
    "        \n",
    "x=int(input(\"Enter the number value you want to check :\"))\n",
    "check_even_odd(x)"
   ]
  },
  {
   "cell_type": "markdown",
   "id": "c909bdcc-827d-47cb-819d-473c531d5120",
   "metadata": {},
   "source": [
    "Firstly take a input from user and store in az varible \n",
    "\n",
    "Now call the function check_even_odd with argument x.\n",
    "\n",
    "In function check the even or odd with the help of conditional element.\n",
    "\n",
    "Now according to the conditional staments print the value even , odd or zero."
   ]
  },
  {
   "cell_type": "code",
   "execution_count": 1,
   "id": "529c0ac0-414f-47a2-a9a0-c33f3a9aafe5",
   "metadata": {},
   "outputs": [],
   "source": [
    "#Q3 How can you use nested if-else statements in Python, and provide an example?"
   ]
  },
  {
   "cell_type": "markdown",
   "id": "b5808acf-f350-4ea7-b592-3b2ce9fb21e8",
   "metadata": {},
   "source": [
    "The nested if-else statements are used when you want to execute the block of code/statements inside other if-else statements.\n",
    "\n",
    "The syntax of defining nested if-else statement in python by adding an if-else statement inside another if-else statement.\n",
    "\n",
    "if boolean_expression:\n",
    "    \n",
    "    if boolean_expression:\n",
    "        \n",
    "        statement(s)\n",
    "        \n",
    "    else:\n",
    "        \n",
    "        statement(s)      \n",
    "else:\n",
    "    \n",
    "    statement(s)\n",
    "    \n",
    "If you observe the above nested if-else statement syntax, we created an if-else statement inside another if-else statement.\n",
    "\n",
    "Example :"
   ]
  },
  {
   "cell_type": "code",
   "execution_count": 10,
   "id": "4e647cd7-c1ff-43d2-a6f1-3aa56b9ec62f",
   "metadata": {},
   "outputs": [
    {
     "name": "stdin",
     "output_type": "stream",
     "text": [
      "Enter the first number value you want to check : 56\n",
      "Enter the second number value you want to check : 54\n"
     ]
    },
    {
     "name": "stdout",
     "output_type": "stream",
     "text": [
      "x is greater than y\n"
     ]
    }
   ],
   "source": [
    "def greater(x,y):\n",
    "    if x >= y:\n",
    "        if x == y:\n",
    "            print(\"x is equals to y\")\n",
    "        else:\n",
    "            print(\"x is greater than y\")\n",
    "    else:\n",
    "        print(\"x is less than y\")\n",
    "        \n",
    "        \n",
    "x=int(input(\"Enter the first number value you want to check :\"))\n",
    "y=int(input(\"Enter the second number value you want to check :\"))\n",
    "greater(x,y)"
   ]
  },
  {
   "cell_type": "code",
   "execution_count": 11,
   "id": "53f0e411-3900-4bac-9edd-07757b4e3f1d",
   "metadata": {},
   "outputs": [],
   "source": [
    "#Q4 Write a Python program to determine the largest of three numbers using if-else."
   ]
  },
  {
   "cell_type": "code",
   "execution_count": 2,
   "id": "90bd2479-6196-450a-afe2-fc21547e507c",
   "metadata": {},
   "outputs": [
    {
     "name": "stdin",
     "output_type": "stream",
     "text": [
      "Enter the first number  : 33\n",
      "Enter the second number  : 33\n",
      "Enter the third number: 22\n"
     ]
    },
    {
     "name": "stdout",
     "output_type": "stream",
     "text": [
      ":: x & y is the greatest ::\n"
     ]
    }
   ],
   "source": [
    "def greater_3(x,y,z):\n",
    "    if x > y and x>z:\n",
    "        print(\":: x is the greatest ::\")\n",
    "    elif y>x and y>z:\n",
    "         print(\":: y is the greatest ::\")\n",
    "    elif z>x and z>y:\n",
    "         print(\":: z is the greatest ::\")\n",
    "    elif x==y or y==z or x==z:\n",
    "        if x==y and y>z:\n",
    "            print(\":: x & y is the greatest ::\")\n",
    "        elif x==z and y<z:\n",
    "            print(\":: x & z is the greatest ::\")\n",
    "        else:\n",
    "            print(\":: z & y is the greatest ::\")\n",
    "    else:\n",
    "        print(\":: All are equal ::\")\n",
    "        \n",
    "        \n",
    "x=int(input(\"Enter the first number  :\"))\n",
    "y=int(input(\"Enter the second number  :\"))\n",
    "z=int(input(\"Enter the third number:\"))\n",
    "greater_3(x,y,z)"
   ]
  },
  {
   "cell_type": "markdown",
   "id": "c130122b-43d3-45e5-bd7d-9fb8e2ec9450",
   "metadata": {},
   "source": [
    "In this method, we manually compare each of the numbers from the other numbers to find the maximum or the largest among them.\n",
    "\n",
    "We will define a function and implement the following with the help of conditional statement:\n",
    "        \n",
    "                            if n1 is greater than both n2 and n3 then it will be printed as largest\n",
    "\n",
    "                            else if n2 is greater than both n1 and n3 then n2 will be printed as largest\n",
    "\n",
    "                            else n3 is greater than both n1 and n2 then n3 will be printed as largest\n",
    "                            \n",
    "                            else if x is equal to y & both are greater than z then print them as largest or y is equal to z & \n",
    "                            both are greater than x then print them as largest or x is equal to z & both are greater than y \n",
    "                            then print them as largest\n",
    "                            \n",
    "                            else all are equal\n",
    "\n",
    "Now in the the drivers code take 3 variable and take input from the user & call the function."
   ]
  },
  {
   "cell_type": "code",
   "execution_count": 1,
   "id": "55e73997-20f6-44d6-9ef5-fc9dea4d2f68",
   "metadata": {},
   "outputs": [],
   "source": [
    "#Q5 Write a Python program that calculates the absolute value of a number using if-else.\n"
   ]
  },
  {
   "cell_type": "code",
   "execution_count": 2,
   "id": "66207d48-091a-46e5-aed6-e7564789b0d7",
   "metadata": {},
   "outputs": [
    {
     "name": "stdin",
     "output_type": "stream",
     "text": [
      "Enter the number value you want to check : -34\n"
     ]
    },
    {
     "name": "stdout",
     "output_type": "stream",
     "text": [
      "The absolute value of the number is  :: 34\n"
     ]
    }
   ],
   "source": [
    "def check_absolute(x):\n",
    "    if x==0:\n",
    "        print(\"The number is Zero ::\")\n",
    "    elif x<=0:\n",
    "        print(\"The absolute value of the number is  ::\",x*-1)\n",
    "    else:\n",
    "        print(\"The absolute value of the number is ::\",x)\n",
    "        \n",
    "x=int(input(\"Enter the number value you want to check :\"))\n",
    "check_absolute(x)"
   ]
  },
  {
   "cell_type": "markdown",
   "id": "0fc76be1-28d3-4c42-aa77-4060a5a2be49",
   "metadata": {},
   "source": [
    "Firstly take a input from user and store in a varible \n",
    "\n",
    "Now call the function check_absolute with argument x.\n",
    "\n",
    "In function check the absolute value with the help of conditional element.\n",
    "\n",
    "Now according to the conditional staments print the absolute value ."
   ]
  },
  {
   "cell_type": "code",
   "execution_count": 3,
   "id": "db910669-a761-4215-badd-53a998fb3a5e",
   "metadata": {},
   "outputs": [],
   "source": [
    "#Q6 Create a Python program that checks if a given character is a vowel or consonant using if-else."
   ]
  },
  {
   "cell_type": "code",
   "execution_count": 8,
   "id": "9230c408-ef34-4335-9870-1062731d020e",
   "metadata": {},
   "outputs": [
    {
     "name": "stdin",
     "output_type": "stream",
     "text": [
      "Enter the number value you want to check : o\n"
     ]
    },
    {
     "name": "stdout",
     "output_type": "stream",
     "text": [
      "::!! Vowel !! :: o\n"
     ]
    }
   ],
   "source": [
    "def check_char(x):\n",
    "    vowels=\"AEIOUaeiou\"\n",
    "    if x in vowels:\n",
    "        print(\"::!! Vowel !! ::\",x)\n",
    "    else:\n",
    "        print(\"::!! Consonant !! ::\",x)\n",
    "        \n",
    "x=str(input(\"Enter the number value you want to check :\"))\n",
    "check_char(x)"
   ]
  },
  {
   "cell_type": "markdown",
   "id": "dde7e2f1-cc47-404e-ae05-49e4e8be5369",
   "metadata": {},
   "source": [
    "Firstly take a input from user and store in a varible \n",
    "\n",
    "Now call the function check_char with argument x.\n",
    "\n",
    "In function check the character value with the help of conditional element.\n",
    "\n",
    "Now according to the conditional staments print the vowel or consonant ."
   ]
  },
  {
   "cell_type": "code",
   "execution_count": 9,
   "id": "a883220c-7572-48fb-9298-fc72954a31b0",
   "metadata": {},
   "outputs": [],
   "source": [
    "#Q7 Write a Python program to determine if a user is eligible to vote based on their age using if-else."
   ]
  },
  {
   "cell_type": "code",
   "execution_count": 12,
   "id": "adc925f3-90d4-471d-802b-8d790695d157",
   "metadata": {},
   "outputs": [
    {
     "name": "stdin",
     "output_type": "stream",
     "text": [
      "Enter the age value you want to check : 13\n"
     ]
    },
    {
     "name": "stdout",
     "output_type": "stream",
     "text": [
      ":: The person is not eligble to vote ::\n"
     ]
    }
   ],
   "source": [
    "def check_vote(x):\n",
    "    if x>=18:\n",
    "        print(\":: The person is eligble to vote ::\")\n",
    "    else:\n",
    "        print(\":: The person is not eligble to vote ::\")\n",
    "        \n",
    "x=int(input(\"Enter the age value you want to check :\"))\n",
    "check_vote(x)"
   ]
  },
  {
   "cell_type": "markdown",
   "id": "7e2853a7-deaa-42e6-a680-ff1086f2c912",
   "metadata": {},
   "source": [
    "Firstly take a input from user and store in a varible \n",
    "\n",
    "Now call the function check_vote with argument x.\n",
    "\n",
    "In function check the vote eligiblity  with the help of conditional element.\n",
    "\n",
    "Now according to the conditional staments print the  vote eligiblity ."
   ]
  },
  {
   "cell_type": "code",
   "execution_count": 13,
   "id": "cdec367a-2ff0-4349-ab5c-b3b37cfeeb64",
   "metadata": {},
   "outputs": [],
   "source": [
    "#Q8 Create a Python program that calculates the discount amount based on the purchase amount using if-else."
   ]
  },
  {
   "cell_type": "code",
   "execution_count": 14,
   "id": "f42d4e31-e2c8-412a-a3b4-16acab14c225",
   "metadata": {},
   "outputs": [
    {
     "name": "stdin",
     "output_type": "stream",
     "text": [
      "Enter the total value you want to check discount on  : 4500\n"
     ]
    },
    {
     "name": "stdout",
     "output_type": "stream",
     "text": [
      ":: Discounted Amount :: 3825.0\n"
     ]
    }
   ],
   "source": [
    "def check_discount(x):\n",
    "    if x>0 and x<1000:\n",
    "        print(\":: Discounted Amount ::\",x*0.95)\n",
    "    elif x>1000 and x<3000:\n",
    "        print(\":: Discounted Amount ::\",x*0.90)\n",
    "    elif x>3000 and x<10000:\n",
    "        print(\":: Discounted Amount ::\",x*0.85)\n",
    "    elif x>10000:\n",
    "        print(\":: Discounted Amount ::\",x*0.75)\n",
    "    else:\n",
    "        print(\":: The Price is invalid ::\")\n",
    "        \n",
    "x=int(input(\"Enter the total value you want to check discount on  :\"))\n",
    "check_discount(x)"
   ]
  },
  {
   "cell_type": "markdown",
   "id": "ee1330ef-87ee-4cfe-9b48-349b985b7afa",
   "metadata": {},
   "source": [
    "Firstly take a input from user and store in a varible \n",
    "\n",
    "Now call the function check_discount with argument x.\n",
    "\n",
    "In function check the discount  with the help of conditional element.\n",
    "\n",
    "Now according to the conditional staments print the  discount value according to the purchase amount  ."
   ]
  },
  {
   "cell_type": "code",
   "execution_count": 1,
   "id": "0f49f1ac-0fd0-4486-aba4-14780e0cfd83",
   "metadata": {},
   "outputs": [],
   "source": [
    "#Q9 Write a Python program to check if a number is within a specified range using if-else."
   ]
  },
  {
   "cell_type": "code",
   "execution_count": 3,
   "id": "fb4a7844-9f19-41a5-8c73-1cad6b80fc5c",
   "metadata": {},
   "outputs": [
    {
     "name": "stdin",
     "output_type": "stream",
     "text": [
      "Enter the stating point of the range : 10\n",
      "Enter the end point of the range : 100\n",
      "Enter the number you ewant to check range of  : 11\n"
     ]
    },
    {
     "name": "stdout",
     "output_type": "stream",
     "text": [
      ":: The number is in the range  ::\n"
     ]
    }
   ],
   "source": [
    "def check_range(x,y,z):\n",
    "    if x>y and x<z:\n",
    "        print(\":: The number is in the range  ::\")\n",
    "    else:\n",
    "        print(\"::  The number is in the range  ::\")\n",
    "        \n",
    "y=int(input(\"Enter the stating point of the range :\"))\n",
    "z=int(input(\"Enter the end point of the range :\"))\n",
    "x=int(input(\"Enter the number you ewant to check range of  :\"))\n",
    "check_range(x,y,z)"
   ]
  },
  {
   "cell_type": "markdown",
   "id": "bfb810a8-bf02-4d62-be82-8aa3841a6557",
   "metadata": {},
   "source": [
    "Firstly take multiple  input from user and store in diffrent varible \n",
    "\n",
    "Now call the function check_discount with argument x.\n",
    "\n",
    "In function check the discount  with the help of conditional element.\n",
    "\n",
    "Now according to the conditional staments print the  discount value according to the purchase amount  ."
   ]
  },
  {
   "cell_type": "code",
   "execution_count": null,
   "id": "78d26874-f4cb-4ba6-a25a-5f215a638611",
   "metadata": {},
   "outputs": [],
   "source": [
    "#Q10 Create a Python program that determines the grade of a student based on their score using if-else."
   ]
  },
  {
   "cell_type": "code",
   "execution_count": 7,
   "id": "336cc1cd-c683-4f83-b283-e1700d540c4a",
   "metadata": {},
   "outputs": [
    {
     "name": "stdin",
     "output_type": "stream",
     "text": [
      "Enter the total marks obtain : 412\n",
      "Enter the total marks  : 500\n"
     ]
    },
    {
     "name": "stdout",
     "output_type": "stream",
     "text": [
      "::  Distinction :: 82.4\n"
     ]
    }
   ],
   "source": [
    "def check_percentage(x):\n",
    "    if x>=75 :\n",
    "        print(\"::  Distinction ::\",x)\n",
    "    elif x>=60 and x<75:\n",
    "        print(\":: First Class ::\",x)\n",
    "    elif x>=50 and x<60:\n",
    "        print(\":: Second Divison ::\",x)\n",
    "    elif x>=40 and x<50:\n",
    "        print(\":: Third Divison ::\",x)\n",
    "    elif x>=34 and x<40:\n",
    "        print(\":: Fourth Divison ::\",x)\n",
    "    else:\n",
    "        print(\":: Fail ::\")\n",
    "        \n",
    "m=int(input(\"Enter the total marks obtain :\"))\n",
    "total =int(input(\"Enter the total marks  :\"))\n",
    "x=(m*100)/total\n",
    "check_percentage(x)"
   ]
  },
  {
   "cell_type": "markdown",
   "id": "057bec70-8371-468d-9751-fe38597ee97c",
   "metadata": {},
   "source": [
    "Firstly take multiple  input from user and store in diffrent varible . \n",
    "\n",
    "Take input for marks obtained and total marks.Also find the pecentage and store it in a variable x.\n",
    "\n",
    "Now call the function check_percentage with argument x.\n",
    "\n",
    "In function check the percentage weightage with the help of conditional element.\n",
    "\n",
    "Now according to the conditional staments print the  Divison or weightage of the student marks   ."
   ]
  },
  {
   "cell_type": "code",
   "execution_count": 8,
   "id": "324998f3-1aee-4a86-8fc0-4778331beae5",
   "metadata": {},
   "outputs": [],
   "source": [
    "#Q11 Write a Python program to check if a string is empty or not using if-else."
   ]
  },
  {
   "cell_type": "code",
   "execution_count": 9,
   "id": "d1cd898c-0188-42aa-97f2-8dc1737c7cf2",
   "metadata": {},
   "outputs": [
    {
     "name": "stdin",
     "output_type": "stream",
     "text": [
      "Enter the string \n"
     ]
    },
    {
     "name": "stdout",
     "output_type": "stream",
     "text": [
      "Empty\n"
     ]
    }
   ],
   "source": [
    "str1=str(input(\"Enter the string\"))\n",
    "if len(str1)==0:\n",
    "    print(\"Empty\")\n",
    "else:\n",
    "    print(\"String is not empty\")"
   ]
  },
  {
   "cell_type": "markdown",
   "id": "99fb2bdc-3438-43ca-b381-45a24c8fc4f7",
   "metadata": {},
   "source": [
    "Firstly take string  input from user and store in a varible\n",
    "\n",
    "Now if length of str1 is 0 then empty els not empty check this by conditional statement."
   ]
  },
  {
   "cell_type": "code",
   "execution_count": null,
   "id": "0f6e46f6-a252-4d94-a8b1-c66934af2929",
   "metadata": {},
   "outputs": [],
   "source": [
    "#Q12 Create a Python program that identifies the type of a triangle (e.g., equilateral, isosceles, or scalene) based on input values using if-else."
   ]
  },
  {
   "cell_type": "code",
   "execution_count": 11,
   "id": "f6ae61f4-e7cf-4a7d-b18e-e2d04302745b",
   "metadata": {},
   "outputs": [
    {
     "name": "stdin",
     "output_type": "stream",
     "text": [
      "Enter the first side length : 6\n",
      "Enter the second side length : 8\n",
      "Enter the Third side length  : 10\n"
     ]
    },
    {
     "name": "stdout",
     "output_type": "stream",
     "text": [
      ":: Scalene ::\n"
     ]
    }
   ],
   "source": [
    "y=int(input(\"Enter the first side length :\"))\n",
    "z=int(input(\"Enter the second side length :\"))\n",
    "x=int(input(\"Enter the Third side length  :\"))\n",
    "if x==y and y==z:\n",
    "    print(\":: Equilateral ::\")\n",
    "elif x==y or y==z or x==z:\n",
    "    print(\":: Isosceles ::\")\n",
    "else:\n",
    "    print(\":: Scalene ::\")"
   ]
  },
  {
   "cell_type": "code",
   "execution_count": null,
   "id": "d4b90a3e-0acf-44d5-ad15-4b973c9e9972",
   "metadata": {},
   "outputs": [],
   "source": [
    "We will define a function and implement the following with the help of conditional statement:\n",
    "\n",
    "                        if all three sides are equal then it will be printed as An equilateral triangle\n",
    "\n",
    "                        else  at least two equal sides will be printed as An isosceles triangle\n",
    "                        \n",
    "                        else A scalene triangle\n",
    "                    \n",
    "Now in the the drivers code take 3 variale and take input from the user & call the function."
   ]
  },
  {
   "cell_type": "code",
   "execution_count": 12,
   "id": "5a176896-83a0-4ed3-b5e4-33a386b7da1c",
   "metadata": {},
   "outputs": [],
   "source": [
    "#Q13 Write a Python program to determine the day of the week based on a user-provided number using if-else."
   ]
  },
  {
   "cell_type": "code",
   "execution_count": 13,
   "id": "525a0a74-d60e-483c-9906-e5ac4af53b96",
   "metadata": {},
   "outputs": [
    {
     "name": "stdin",
     "output_type": "stream",
     "text": [
      "Enter a number from 1 to 7:  3\n"
     ]
    },
    {
     "name": "stdout",
     "output_type": "stream",
     "text": [
      "3 is Tuesday\n"
     ]
    }
   ],
   "source": [
    "day = int(input(\"Enter a number from 1 to 7: \"))\n",
    "\n",
    "if day == 1:\n",
    "    print(day, \"is Sunday\")\n",
    "elif day == 2:\n",
    "    print(day, \"is Monday\")\n",
    "elif day == 3:\n",
    "    print(day, \"is Tuesday\")\n",
    "elif day == 4:\n",
    "    print(day, \"is Wednesday\")\n",
    "elif day == 5:\n",
    "    print(day, \"is Thursday\")\n",
    "elif day == 6:\n",
    "    print(day, \"is Friday\")\n",
    "elif day == 7:\n",
    "    print(day, \"is Saturday\")\n",
    "else:\n",
    "    print(\"Wrong input! Please enter a number from 1 to 7.\")"
   ]
  },
  {
   "cell_type": "markdown",
   "id": "88ff213a-feba-47e6-b4b5-52ab6ea0e074",
   "metadata": {},
   "source": [
    "To implement this, we need to take input from the user and store it in a variable.\n",
    "\n",
    "After taking input from the user, we have to compare that number with 1 to 7, or we can say, compare that number with a day of the week.\n",
    "\n",
    "So the logic goes like– if the number is equal to 1, then it is Monday, if the number is 2, then it is Tuesday; like that, we have to compare with each day of the week.\n"
   ]
  },
  {
   "cell_type": "code",
   "execution_count": 14,
   "id": "4289f2b2-3776-435d-8667-cd5cd29344ac",
   "metadata": {},
   "outputs": [],
   "source": [
    "#Q14 Create a Python program that checks if a given year is a leap year using both if-else and a function."
   ]
  },
  {
   "cell_type": "code",
   "execution_count": 15,
   "id": "6664772a-89e4-4063-8158-75046a32533c",
   "metadata": {},
   "outputs": [
    {
     "name": "stdin",
     "output_type": "stream",
     "text": [
      "Enter year to be checked: 2200\n"
     ]
    },
    {
     "name": "stdout",
     "output_type": "stream",
     "text": [
      "The year isn't a leap year!\n"
     ]
    }
   ],
   "source": [
    "year=int(input(\"Enter year to be checked:\"))\n",
    "if(year%4==0 and year%100!=0 or year%400==0):\n",
    "    print(\"The year is a leap year!\")\n",
    "else:\n",
    "    print(\"The year isn't a leap year!\")\n",
    "    "
   ]
  },
  {
   "cell_type": "markdown",
   "id": "f004ca37-f485-4315-99fa-28f976aa83e3",
   "metadata": {},
   "source": [
    "1. User must first enter the year to be checked.\n",
    "\n",
    "2. The if statement checks if the year is a multiple of 4 but isn’t a multiple of 100 or if it is a multiple of 400 (not every year that is a multiple of 4 is a leap year).\n",
    "\n",
    "3. Then the result is printed.\n"
   ]
  },
  {
   "cell_type": "code",
   "execution_count": 16,
   "id": "dcc0ee01-4c91-445c-9cbb-68ffc8aa566c",
   "metadata": {},
   "outputs": [],
   "source": [
    "#Q15 How do you use the \"assert\" statement in Python to add debugging checks within if-else blocks?"
   ]
  },
  {
   "cell_type": "markdown",
   "id": "cca9316b-df94-4c05-a6ba-fb85b6da0d13",
   "metadata": {},
   "source": [
    "The assert keyword is used when debugging code.\n",
    "\n",
    "The assert keyword lets you test if a condition in your code returns True, if not, the program will raise an AssertionError.\n",
    "\n",
    "You can write a message to be written if the code returns False, check the example below."
   ]
  },
  {
   "cell_type": "code",
   "execution_count": 19,
   "id": "5a9ec7e8-a380-4908-b3d9-4eddb46f122f",
   "metadata": {},
   "outputs": [],
   "source": [
    "#Q16 Create a Python program that determines the eligibility of a person for a senior citizen discount based on age using if-else."
   ]
  },
  {
   "cell_type": "code",
   "execution_count": 20,
   "id": "55bc7473-92cb-4635-b7be-0b2e2629702d",
   "metadata": {},
   "outputs": [
    {
     "name": "stdin",
     "output_type": "stream",
     "text": [
      "Enter the age value you want to check : 15\n"
     ]
    },
    {
     "name": "stdout",
     "output_type": "stream",
     "text": [
      ":: The person is Teenage  Citizen ::\n"
     ]
    }
   ],
   "source": [
    "def check_age_group(x):\n",
    "    if x>=60:\n",
    "        print(\":: The person is Senior Citizen ::\")\n",
    "    elif x>=40 and x<60:\n",
    "        print(\":: The person is Middle Age Citizen ::\")\n",
    "    elif x>=20 and x<40:\n",
    "        print(\":: The person is Young Age Citizen ::\")\n",
    "    elif x>=13 and x<20:\n",
    "        print(\":: The person is Teenage Citizen ::\")\n",
    "    else:\n",
    "        print(\":: The person is a Child::\")\n",
    "        \n",
    "x=int(input(\"Enter the age value you want to check :\"))\n",
    "check_age_group(x)"
   ]
  },
  {
   "cell_type": "markdown",
   "id": "5ed80569-912a-4152-b464-3635a4cd5b5c",
   "metadata": {},
   "source": [
    "We will define a function and implement the following with the help of conditional statement:\n",
    "\n",
    "                        if age value is greater than equal to 60 then it will be printed as Senior Citizen\n",
    "\n",
    "                        elif  age value is greater than equal to 40 & less 60 then it will be printed as Middle Age Citizen\n",
    "            \n",
    "                        elif  age value is greater than equal to 20 & less 40 then it will be printed as Young Age Citizen\n",
    "                \n",
    "                        elif  age value is greater than equal to 20 & less 40 then it will be printed as Teen Age Citizen\n",
    "                        \n",
    "                        else printed as Child\n",
    "                        \n",
    "                    \n",
    "Now in the the drivers code take a variale and take input from the user & call the function."
   ]
  },
  {
   "cell_type": "code",
   "execution_count": 21,
   "id": "c29e0642-0aed-419f-a5fb-b0c96e47fbcb",
   "metadata": {},
   "outputs": [],
   "source": [
    "#Q17 Write a Python program to categorize a given character as uppercase, lowercase, or neither using if-else."
   ]
  },
  {
   "cell_type": "code",
   "execution_count": 22,
   "id": "a1e527a3-97d7-4f24-9efd-26862f81e248",
   "metadata": {},
   "outputs": [
    {
     "name": "stdin",
     "output_type": "stream",
     "text": [
      "Enter the string ROMAN\n"
     ]
    },
    {
     "name": "stdout",
     "output_type": "stream",
     "text": [
      ":: Uppercase ::\n"
     ]
    }
   ],
   "source": [
    "str1=str(input(\"Enter the string\"))\n",
    "if str1==str1.upper():\n",
    "    print(\":: Uppercase ::\")\n",
    "elif str1==str1.lower():\n",
    "    print(\":: Lowercase ::\")\n",
    "else:\n",
    "    print(\"String is neither upper or lower case\")"
   ]
  },
  {
   "cell_type": "markdown",
   "id": "48475b46-918d-4fa0-b695-eeac06fa5f29",
   "metadata": {},
   "source": [
    "Take a variable to take string as user input and store it.\n",
    "\n",
    "After that with the help of if else check the folowing\n",
    "\n",
    "if  str1==str1.upper() then it will be printed as Uppercase\n",
    "\n",
    "elif str1==str1.lower() then it will be printed as Lowercase\n",
    "\n",
    "else it will be printed as String is neither upper or lower case"
   ]
  },
  {
   "cell_type": "code",
   "execution_count": 23,
   "id": "5978c68e-2441-43a5-8659-cdc9b64ca32c",
   "metadata": {},
   "outputs": [],
   "source": [
    "#Q18 Write a Python program to determine the roots of a quadratic equation using if-else."
   ]
  },
  {
   "cell_type": "code",
   "execution_count": 24,
   "id": "c1663f73-0f75-40d4-a1b1-02c3caa5c253",
   "metadata": {},
   "outputs": [
    {
     "name": "stdout",
     "output_type": "stream",
     "text": [
      "Equation: ax^2 + bx + c \n"
     ]
    },
    {
     "name": "stdin",
     "output_type": "stream",
     "text": [
      "Enter a:  4\n",
      "Enter b:  5\n",
      "Enter c:  6\n"
     ]
    },
    {
     "name": "stdout",
     "output_type": "stream",
     "text": [
      "The roots are imaginary. \n"
     ]
    }
   ],
   "source": [
    "print(\"Equation: ax^2 + bx + c \")\n",
    "a=int(input(\"Enter a: \"))\n",
    "b=int(input(\"Enter b: \"))\n",
    "c=int(input(\"Enter c: \"))\n",
    "d=b**2-4*a*c\n",
    "d1=d**0.5\n",
    "if(d<0):\n",
    "    print(\"The roots are imaginary. \")\n",
    "else:\n",
    "    r1=(-b+d1)/2*a\n",
    "    r2=(-b-d1)/2*a\n",
    "    print(\"The first root: \",round(r1,2))\n",
    "    print(\"The second root: \",round(r2,2))"
   ]
  },
  {
   "cell_type": "markdown",
   "id": "8374f2e0-f02d-496c-a2fa-e20a54fa6836",
   "metadata": {},
   "source": [
    "1. Take in the coefficients of the equation and store it in three separate variables.\n",
    "\n",
    "2. Find the value of the discriminant, d.\n",
    "\n",
    "3. Use an if statement to check if the value of the discriminant is greater than 0 or lesser than 0.\n",
    "\n",
    "4. If the value of the discriminant is greater than 0, use the quadratic formula and find the roots rounded upto 2 decimal places.\n",
    "\n",
    "5. Print the roots of the equation.\n",
    "\n",
    "6. Exit."
   ]
  },
  {
   "cell_type": "code",
   "execution_count": 25,
   "id": "762da71b-e3e1-4fce-a63e-d99ceda70f3a",
   "metadata": {},
   "outputs": [],
   "source": [
    "#Q19 Create a Python program that checks if a given year is a century year or not using if-else."
   ]
  },
  {
   "cell_type": "code",
   "execution_count": 27,
   "id": "1d5adbbf-d858-410c-af2b-cef6a646fdbc",
   "metadata": {},
   "outputs": [
    {
     "name": "stdin",
     "output_type": "stream",
     "text": [
      "Enter a year:  2200\n"
     ]
    },
    {
     "name": "stdout",
     "output_type": "stream",
     "text": [
      "The year 2200 is a century year.\n"
     ]
    }
   ],
   "source": [
    "def check_century(x):\n",
    "    if year % 100 == 0:\n",
    "        return True\n",
    "    else:\n",
    "        return False\n",
    "\n",
    "year = int(input(\"Enter a year: \"))\n",
    "\n",
    "if check_century(year):\n",
    "    print(\"The year {} is a century year.\".format(year))\n",
    "else:\n",
    "    print(\"The year {} is not a century year.\".format(year))"
   ]
  },
  {
   "cell_type": "markdown",
   "id": "f6338583-f5f0-4a57-ad6a-e69c873f5aab",
   "metadata": {},
   "source": [
    "Firstly take  the year as input from user and store in a varible \n",
    "\n",
    "Now call the function check_century with argument x.\n",
    "\n",
    "This function first checks if the year is divisible by 100. If it is, then the year is a century year. Otherwise, the year is not a century year."
   ]
  },
  {
   "cell_type": "code",
   "execution_count": 28,
   "id": "28a7ee19-f0f9-4ce3-bd37-5bd25ddfabdd",
   "metadata": {},
   "outputs": [],
   "source": [
    "#Q20 Write a Python program to determine if a given number is a perfect square using if-else."
   ]
  },
  {
   "cell_type": "code",
   "execution_count": 1,
   "id": "d880911a-c0ba-43b9-a40e-3e15585d3491",
   "metadata": {},
   "outputs": [
    {
     "name": "stdin",
     "output_type": "stream",
     "text": [
      "Enter the number : 49\n"
     ]
    },
    {
     "name": "stdout",
     "output_type": "stream",
     "text": [
      "The number is a perfect square\n"
     ]
    }
   ],
   "source": [
    "def is_perfect_square(n):\n",
    "    if n < 0:\n",
    "        return False\n",
    "    for i in range(1, int(n**0.5) + 1):\n",
    "        if i * i == n:\n",
    "            return True\n",
    "    return False\n",
    "n=int(input(\"Enter the number :\"))\n",
    "x= is_perfect_square(n)\n",
    "if x==True:\n",
    "    print(\"The number is a perfect square\")\n",
    "else:\n",
    "    print(\"The number is a perfect square\")"
   ]
  },
  {
   "cell_type": "markdown",
   "id": "370e53e7-aece-4f34-8cf0-28c22a01fb80",
   "metadata": {},
   "source": [
    "This program works by first checking if the given number is negative. \n",
    "\n",
    "If it is, then it is not a perfect square and the program returns False. \n",
    "\n",
    "Otherwise, the program loops through all the numbers from 1 to the square root of the given number.\n",
    "\n",
    "If any of these numbers square to the given number, then the program returns True. Otherwise, the program returns False."
   ]
  },
  {
   "cell_type": "code",
   "execution_count": 31,
   "id": "db8e9604-2526-4691-82da-c79a1458213d",
   "metadata": {},
   "outputs": [],
   "source": [
    "#Q21 Explain the purpose of the \"continue\" and \"break\" statements within if-else loops."
   ]
  },
  {
   "cell_type": "markdown",
   "id": "56fa2910-90dc-49f3-9d6f-789a9efa239d",
   "metadata": {},
   "source": [
    "Break Statement in Python\n",
    "\n",
    "The break statement in Python is used to terminate the loop or statement in which it is present. \n",
    "\n",
    "After that, the control will pass to the statements that are present after the break statement, if available. \n",
    "\n",
    "If the break statement is present in the nested loop, then it terminates only those loops which contain the break statement. \n",
    "\n",
    "Syntax of Break Statement\n",
    "\n",
    "The break statement in Python has the following syntax:\n",
    "\n",
    "for / while loop:\n",
    "\n",
    "    # statement(s)\n",
    "    \n",
    "    if condition:\n",
    "    \n",
    "        break\n",
    "        \n",
    "    # statement(s)\n",
    "    \n",
    "\n",
    "\n",
    "Continue Statement in Python\n",
    "\n",
    "Continue is also a loop control statement just like the break statement.\n",
    "\n",
    "continue statement is opposite to that of the break statement, instead of terminating the loop, it forces to execute the next iteration of the loop.\n",
    "\n",
    "As the name suggests the continue statement forces the loop to continue or execute the next iteration.\n",
    "\n",
    "When the continue statement is executed in the loop, the code inside the loop following the continue statement will be skipped and the next iteration of the loop will begin.\n",
    "\n",
    "Syntax of Continue Statement\n",
    "\n",
    "The continue statement in Python has the following syntax:\n",
    "\n",
    "for / while loop:\n",
    "\n",
    "    # statement(s)\n",
    "    \n",
    "    if condition:\n",
    "    \n",
    "        continue\n",
    "        \n",
    "    # statement(s)"
   ]
  },
  {
   "cell_type": "code",
   "execution_count": 32,
   "id": "69554f1f-c215-46df-9c64-3f9d69d87ae6",
   "metadata": {},
   "outputs": [],
   "source": [
    "#Q22 Create a Python program that calculates the BMI (Body Mass Index) of a person based on their weight and height using if-else."
   ]
  },
  {
   "cell_type": "code",
   "execution_count": 2,
   "id": "49020d3d-f1e4-453a-bc5e-f585ec4b7479",
   "metadata": {},
   "outputs": [
    {
     "name": "stdin",
     "output_type": "stream",
     "text": [
      "Height in Meter 1.82\n",
      "Height in Killogram 85\n"
     ]
    },
    {
     "name": "stdout",
     "output_type": "stream",
     "text": [
      "The BMI is 25.661152034778407 so overweight\n"
     ]
    }
   ],
   "source": [
    "\n",
    "weight = float(input(\"Enter your weight in kilograms: \"))\n",
    "height = float(input(\"Enter your height in meters: \"))\n",
    " \n",
    "BMI = weight / (height * height)\n",
    "\n",
    "\n",
    "if BMI < 18.5:\n",
    "    print(\"Category: Underweight\")\n",
    "elif BMI <= 24.9:\n",
    "    print(\"Category: Normal weight\")\n",
    "elif BMI <= 29.9:\n",
    "    print(\"Category: Overweight\")\n",
    "else:\n",
    "    print(\"Category: Obesity\")"
   ]
  },
  {
   "cell_type": "markdown",
   "id": "268a28a1-a8ca-4f11-859d-7891c66bd4b2",
   "metadata": {},
   "source": [
    "Define 2 variable & Prompt the user to enter their weight and height\n",
    "\n",
    "Now Calculate the BMI with the help of the formula BMI = weight / (height * height)\n",
    "\n",
    "Now Classify the BMI by executing the following with the help of the if-else statement\n",
    "\n",
    "            if BMI is less than or equal to 18.4 then You are underweight. will be printed.\n",
    "    \n",
    "            if BMI is less than or equal to 24.9 then You are healthy. will be printed.\n",
    "        \n",
    "            if BMI is less than or equal to 29.9 then You are over weight. will be printed.\n",
    "            \n",
    "            if BMI is less than or equal to 34.9 then You are severely over weight. will be printed.\n",
    "            \n",
    "            if BMI is less than or equal to 39.9 then You are obese. will be printed.\n",
    "            \n",
    "            if BMI none of the above are true then You are severely obese. will be printed."
   ]
  },
  {
   "cell_type": "code",
   "execution_count": 36,
   "id": "57b4b17f-771b-4093-b4f8-c854b418d3f2",
   "metadata": {},
   "outputs": [],
   "source": [
    "#Q23 How can you use the \"filter()\" function with if-else statements to filter elements from a list?"
   ]
  },
  {
   "cell_type": "markdown",
   "id": "cda68564-1e28-4258-9350-6455f0cc5d83",
   "metadata": {},
   "source": [
    "The Python filter() function can be used to filter a list by applying a filtering function to an iterable. \n",
    "\n",
    "The filtering function should return either True or False for each element in the iterable. \n",
    "\n",
    "Here's an example of how the filter() function works: \n",
    "\n",
    "       Define an empty list to hold the elements from the scores list\n",
    "\n",
    "       Iterate over the elements of the scores list\n",
    "       \n",
    "       If the element is greater than or equal to 70, add it to the filtered list\n",
    "\n",
    "       Show the filtered list to the screen\n",
    "\n",
    "The filter() function acts as a decision function, providing criteria to filter out unwanted values from the input set. \n",
    "\n",
    "The syntax for the filter() function is sample_list = filter(filteringFunction). \n"
   ]
  },
  {
   "cell_type": "code",
   "execution_count": null,
   "id": "5488a921-3a75-4bcc-bde3-aea6b877703e",
   "metadata": {},
   "outputs": [],
   "source": [
    "#Q24 Write a Python program to determine if a given number is prime or not using if-else."
   ]
  },
  {
   "cell_type": "code",
   "execution_count": 39,
   "id": "60569728-20da-4b9f-8b57-fede3ce830b6",
   "metadata": {},
   "outputs": [
    {
     "name": "stdin",
     "output_type": "stream",
     "text": [
      "Enter a number:  33\n"
     ]
    },
    {
     "name": "stdout",
     "output_type": "stream",
     "text": [
      "33 is a composite number\n"
     ]
    }
   ],
   "source": [
    "num = int(input(\"Enter a number: \"))\n",
    "\n",
    "if num > 1:\n",
    "    for i in range(2, int(num/2)+1):\n",
    "        if (num % i) == 0:\n",
    "            print(num, \"is a composite number\")\n",
    "            break\n",
    "    else:\n",
    "        print(num, \"is a prime number\")\n",
    "else:\n",
    "    print(num, \"is a composite number\")"
   ]
  },
  {
   "cell_type": "markdown",
   "id": "481e190a-3ef6-425a-9344-7ea37e201445",
   "metadata": {},
   "source": [
    "Define a variable and take number as user input .\n",
    "\n",
    "If given number is greater than 1 then Iterate from 2 to n / 2 using for loop\n",
    "\n",
    "If num is divisible by any number between 2 and n / 2, it is composite else prime\n",
    "\n",
    "Program ends"
   ]
  },
  {
   "cell_type": "code",
   "execution_count": null,
   "id": "26fbf981-ccfd-4ccd-9ecf-78b4e0c69d7f",
   "metadata": {},
   "outputs": [],
   "source": []
  }
 ],
 "metadata": {
  "kernelspec": {
   "display_name": "Python 3 (ipykernel)",
   "language": "python",
   "name": "python3"
  },
  "language_info": {
   "codemirror_mode": {
    "name": "ipython",
    "version": 3
   },
   "file_extension": ".py",
   "mimetype": "text/x-python",
   "name": "python",
   "nbconvert_exporter": "python",
   "pygments_lexer": "ipython3",
   "version": "3.10.8"
  }
 },
 "nbformat": 4,
 "nbformat_minor": 5
}
